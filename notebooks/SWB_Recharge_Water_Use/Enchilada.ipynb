{
 "cells": [
  {
   "cell_type": "code",
   "execution_count": null,
   "metadata": {},
   "outputs": [],
   "source": [
    "import flopy as fp\n",
    "import flopy.utils as fu\n",
    "import pandas as pd\n",
    "import xarray as xr\n",
    "import numpy as np\n",
    "import os\n",
    "import matplotlib.pyplot as plt\n",
    "%matplotlib inline"
   ]
  },
  {
   "cell_type": "markdown",
   "metadata": {},
   "source": [
    "# Navigate some constants"
   ]
  },
  {
   "cell_type": "code",
   "execution_count": null,
   "metadata": {},
   "outputs": [],
   "source": [
    "parcels = np.loadtxt('swb_files/parcels.asc', skiprows=6)\n",
    "# which parcels have irrigation?\n",
    "irrigation = np.loadtxt('swb_files/irrigation.asc', skiprows=6)\n",
    "irrigated_parcels = np.unique(parcels[irrigation==1])"
   ]
  },
  {
   "cell_type": "markdown",
   "metadata": {},
   "source": [
    "# Update the file of land use from a table"
   ]
  },
  {
   "cell_type": "code",
   "execution_count": null,
   "metadata": {},
   "outputs": [],
   "source": [
    "# read in a table of new crops by parcel\n",
    "new_crops = pd.read_csv('crop_parcel_input.csv', index_col=0)\n",
    "# also read in the starting land use\n",
    "landuse = np.loadtxt('swb_files/land_use.asc', skiprows = 6)\n",
    "# read in the header for writing out rasters as well\n",
    "raster_header = open('swb_files/land_use.asc', 'r').readlines()[:6]"
   ]
  },
  {
   "cell_type": "code",
   "execution_count": null,
   "metadata": {},
   "outputs": [],
   "source": [
    "new_crops"
   ]
  },
  {
   "cell_type": "code",
   "execution_count": null,
   "metadata": {},
   "outputs": [],
   "source": [
    "# update the landuse array with the new crop types\n",
    "for cp in new_crops.index:\n",
    "    landuse[parcels==cp] = new_crops.loc[cp].CropType\n",
    "# and save it out\n",
    "np.savetxt('swb_files/land_use.asc', landuse, header=''.join(raster_header).rstrip(), comments='', fmt = '%d')"
   ]
  },
  {
   "cell_type": "markdown",
   "metadata": {},
   "source": [
    "## first run SWB"
   ]
  },
  {
   "cell_type": "code",
   "execution_count": null,
   "metadata": {},
   "outputs": [],
   "source": [
    "os.system('swb2 freyberg_delta.ctl')"
   ]
  },
  {
   "cell_type": "markdown",
   "metadata": {},
   "source": [
    "## Next read in the recharge and pumping for a given year"
   ]
  },
  {
   "cell_type": "code",
   "execution_count": null,
   "metadata": {},
   "outputs": [],
   "source": [
    "runyear = 2015"
   ]
  },
  {
   "cell_type": "code",
   "execution_count": null,
   "metadata": {},
   "outputs": [],
   "source": [
    "rchfile = 'net_infiltration__2010-01-01_to_2017-12-31__40_by_20.nc'\n",
    "pumping_file = 'irrigation__2010-01-01_to_2017-12-31__40_by_20.nc'"
   ]
  },
  {
   "cell_type": "code",
   "execution_count": null,
   "metadata": {},
   "outputs": [],
   "source": [
    "rch = xr.open_dataset(rchfile)\n",
    "pump = xr.open_dataset(pumping_file)\n"
   ]
  },
  {
   "cell_type": "code",
   "execution_count": null,
   "metadata": {},
   "outputs": [],
   "source": [
    "pump_data = pump['irrigation'].loc['1/1/{0:d}'.format(runyear):\n",
    "                                      '12/31/{0:d}'.format(runyear)].sum(axis=0).values\n",
    "rch_data = rch['net_infiltration'].loc['1/1/{0:d}'.format(runyear):\n",
    "                                      '12/31/{0:d}'.format(runyear)].sum(axis=0).values\n",
    "pump.close()\n",
    "rch.close()"
   ]
  },
  {
   "cell_type": "markdown",
   "metadata": {},
   "source": [
    "## Unit conversions - the bane of the world!\n",
    "convert `rch` from inches to meters  \n",
    "also convert `pump` from inches/year/model cell to cubic meters per day  \n",
    "$rch_{\\frac{m}{day}} = rch_{\\frac{in}{year}} \\times 0.0254 \\times \\frac{1 year}{365.25 days}$  \n",
    "\n",
    "$pump_{\\frac{m^3}{d}} = pump_{inches/year/cell} \\times 0.0254 \\frac{m}{in} \\times \n",
    "            250^2m^2 \\times \\frac{1 year}{365.25 days}$"
   ]
  },
  {
   "cell_type": "code",
   "execution_count": null,
   "metadata": {},
   "outputs": [],
   "source": [
    "rch_data *= 0.0254 / 356.25"
   ]
  },
  {
   "cell_type": "code",
   "execution_count": null,
   "metadata": {},
   "outputs": [],
   "source": [
    "pump_data = pump_data * 0.0254 * 250 * 250 /365.25"
   ]
  },
  {
   "cell_type": "markdown",
   "metadata": {},
   "source": [
    "### read in the parcels and find pumping per parcel (also read in row and col for pumping)"
   ]
  },
  {
   "cell_type": "code",
   "execution_count": null,
   "metadata": {},
   "outputs": [],
   "source": [
    "rc = pd.read_csv('parcel_centroids.dat')\n",
    "parcels = np.loadtxt('swb_files/parcels.dat').astype(int)"
   ]
  },
  {
   "cell_type": "code",
   "execution_count": null,
   "metadata": {},
   "outputs": [],
   "source": [
    "total_pumping = pd.DataFrame({'parcel':[int(i) for i in np.unique(parcels)],\n",
    "                         'flux':[-np.sum(pump_data[parcels==i]) for i in np.unique(parcels)]})"
   ]
  },
  {
   "cell_type": "code",
   "execution_count": null,
   "metadata": {},
   "outputs": [],
   "source": [
    "total_pumping"
   ]
  },
  {
   "cell_type": "markdown",
   "metadata": {},
   "source": [
    "## read in the model"
   ]
  },
  {
   "cell_type": "code",
   "execution_count": null,
   "metadata": {},
   "outputs": [],
   "source": [
    "sim = fp.mf6.MFSimulation.load('mfsim.nam', sim_ws='freyberg_demo')\n",
    "m = sim.get_model(model_name='freyberg')"
   ]
  },
  {
   "cell_type": "code",
   "execution_count": null,
   "metadata": {},
   "outputs": [],
   "source": [
    "m.remove_package('rch')\n",
    "m.remove_package('wel')"
   ]
  },
  {
   "cell_type": "markdown",
   "metadata": {},
   "source": [
    "### update the pumping in wells"
   ]
  },
  {
   "cell_type": "code",
   "execution_count": null,
   "metadata": {},
   "outputs": [],
   "source": [
    "total_pumping = total_pumping.merge(rc, left_on='parcel',right_on='parcel')"
   ]
  },
  {
   "cell_type": "code",
   "execution_count": null,
   "metadata": {},
   "outputs": [],
   "source": [
    "total_pumping=total_pumping.loc[total_pumping.flux<0]\n",
    "total_pumping.r=[int(np.round(i)) for i in total_pumping.r]\n",
    "total_pumping.c=[int(np.round(i)) for i in total_pumping.c]\n",
    "total_pumping['cellid'] = [(0,i,j) for i,j in zip(total_pumping.r,total_pumping.c)]\n",
    "total_pumping"
   ]
  },
  {
   "cell_type": "code",
   "execution_count": null,
   "metadata": {},
   "outputs": [],
   "source": [
    "well_spd = total_pumping[['cellid','flux']].to_records(index=False)\n",
    "wel = fp.mf6.ModflowGwfwel(m, print_input=True, stress_period_data=\n",
    "                           {i:well_spd for i in range(sim.tdis.nper.get_data())})"
   ]
  },
  {
   "cell_type": "markdown",
   "metadata": {},
   "source": [
    "### update the recharge array"
   ]
  },
  {
   "cell_type": "code",
   "execution_count": null,
   "metadata": {},
   "outputs": [],
   "source": [
    "rch = fp.mf6.ModflowGwfrcha(m, recharge={i:rch_data for i in range(sim.tdis.nper.get_data())})"
   ]
  },
  {
   "cell_type": "markdown",
   "metadata": {},
   "source": [
    "# Now run and process MODFLOW6"
   ]
  },
  {
   "cell_type": "code",
   "execution_count": null,
   "metadata": {},
   "outputs": [],
   "source": [
    "sim.exe_name='mf6'\n",
    "sim.write_simulation()"
   ]
  },
  {
   "cell_type": "code",
   "execution_count": null,
   "metadata": {},
   "outputs": [],
   "source": [
    "sim.run_simulation()"
   ]
  },
  {
   "cell_type": "code",
   "execution_count": null,
   "metadata": {},
   "outputs": [],
   "source": [
    "headfile = 'freyberg_demo/freyberg.hds'\n",
    "hds = fu.binaryfile.HeadFile(headfile)\n",
    "t = hds.get_times()\n",
    "t"
   ]
  },
  {
   "cell_type": "code",
   "execution_count": null,
   "metadata": {},
   "outputs": [],
   "source": [
    "h=hds.get_data(totim=t[1])\n",
    "h.shape"
   ]
  },
  {
   "cell_type": "code",
   "execution_count": null,
   "metadata": {},
   "outputs": [],
   "source": [
    "h[h>1000] = np.nan\n",
    "h[h<-1000] = np.nan\n"
   ]
  },
  {
   "cell_type": "code",
   "execution_count": null,
   "metadata": {},
   "outputs": [],
   "source": [
    "plt.figure(figsize=(6,10))\n",
    "plt.imshow(55-np.squeeze(h))\n",
    "plt.colorbar()\n",
    "plt.title('Depth to Water')\n",
    "plt.savefig('DTW.png')"
   ]
  },
  {
   "cell_type": "code",
   "execution_count": null,
   "metadata": {},
   "outputs": [],
   "source": [
    "plt.figure(figsize=(6,10))\n",
    "plt.imshow(np.squeeze(h))\n",
    "plt.colorbar()\n",
    "plt.title('Water Elevation')\n",
    "plt.savefig('WaterElevation.png')"
   ]
  },
  {
   "cell_type": "code",
   "execution_count": null,
   "metadata": {},
   "outputs": [],
   "source": [
    "from pumping_cost import pumping_cost"
   ]
  },
  {
   "cell_type": "code",
   "execution_count": null,
   "metadata": {},
   "outputs": [],
   "source": [
    "def DTW_and_cost_by_parcel(parcels, h, land_surface, irrigated_parcels, state='ms'):\n",
    "    DTW = land_surface - np.squeeze(h)\n",
    "    parcels_all = [int(i) for i in irrigated_parcels]\n",
    "    DTW_all = [np.nanmax(DTW[parcels==p]) for p in irrigated_parcels]\n",
    "    cost = [pumping_cost(i,2015,'ms') for i in DTW_all]\n",
    "    return pd.DataFrame({'parcel':parcels_all, 'DTW':DTW_all,'pumping_cost':cost})"
   ]
  },
  {
   "cell_type": "code",
   "execution_count": null,
   "metadata": {},
   "outputs": [],
   "source": [
    "DTW_and_cost_by_parcel(parcels,h,55, irrigated_parcels)"
   ]
  },
  {
   "cell_type": "code",
   "execution_count": null,
   "metadata": {},
   "outputs": [],
   "source": [
    "pumping_cost(150, 2015,'ms') # args are lift in feet, year, and state (ms or ar). Returns $/acre-foot"
   ]
  },
  {
   "cell_type": "code",
   "execution_count": null,
   "metadata": {},
   "outputs": [],
   "source": []
  }
 ],
 "metadata": {
  "kernelspec": {
   "display_name": "Python 3",
   "language": "python",
   "name": "python3"
  },
  "language_info": {
   "codemirror_mode": {
    "name": "ipython",
    "version": 3
   },
   "file_extension": ".py",
   "mimetype": "text/x-python",
   "name": "python",
   "nbconvert_exporter": "python",
   "pygments_lexer": "ipython3",
   "version": "3.6.8"
  }
 },
 "nbformat": 4,
 "nbformat_minor": 2
}
