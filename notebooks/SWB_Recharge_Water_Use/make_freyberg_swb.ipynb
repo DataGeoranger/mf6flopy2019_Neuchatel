{
 "cells": [
  {
   "cell_type": "code",
   "execution_count": null,
   "metadata": {},
   "outputs": [],
   "source": [
    "import flopy as fp\n",
    "import numpy as np\n",
    "import pandas as pd\n",
    "import shutil"
   ]
  },
  {
   "cell_type": "code",
   "execution_count": null,
   "metadata": {},
   "outputs": [],
   "source": [
    "ctl_filename = 'freyberg_delta.ctl'"
   ]
  },
  {
   "cell_type": "code",
   "execution_count": null,
   "metadata": {},
   "outputs": [],
   "source": [
    "sim = fp.mf6.MFSimulation.load('mfsim.nam', sim_ws='freyberg_demo')\n",
    "m = sim.get_model(model_name='freyberg')"
   ]
  },
  {
   "cell_type": "code",
   "execution_count": null,
   "metadata": {},
   "outputs": [],
   "source": [
    "nrow,ncol = m.dis.nrow.get_data(), m.dis.ncol.get_data()\n",
    "resolution = m.dis.delr.get_data()[0]"
   ]
  },
  {
   "cell_type": "markdown",
   "metadata": {},
   "source": [
    "## Let's make a control file. This is basically hacked from the SWB2 Central Sands model\n",
    "We are going to make some dictionaries with the information to write out later on"
   ]
  },
  {
   "cell_type": "code",
   "execution_count": null,
   "metadata": {},
   "outputs": [],
   "source": [
    "xll,yll=516402.147,1172605.575\n",
    "proj4 = '+proj=aea +lat_1=29.5 +lat_2=45.5 +lat_0=23 +lon_0=-96 +x_0=0 +y_0=0 +ellps=GRS80 +towgs84=0,0,0,0,0,0,0 +units=m +no_defs'\n",
    "prof4_daymet = '+proj=lcc +lat_1=25.0 +lat_2=60.0 +lat_0=42.5 +lon_0=-100.0 +x_0=0.0 +y_0=0.0 +ellps=GRS80 +datum=NAD83 +units=m +no_defs'\n",
    "grid_info = {'GRID': '{0:d} {1:d} {2:f} {3:f} {4:f} '.format(ncol,nrow, xll, yll, resolution),\n",
    "            'BASE_PROJECTION_DEFINITION': proj4}"
   ]
  },
  {
   "cell_type": "code",
   "execution_count": null,
   "metadata": {},
   "outputs": [],
   "source": [
    "methods = { 'INTERCEPTION_METHOD':              'BUCKET',\n",
    "            'EVAPOTRANSPIRATION_METHOD':        'HARGREAVES',\n",
    "            'RUNOFF_METHOD':                    'CURVE_NUMBER',\n",
    "            'SOIL_MOISTURE_METHOD':             'FAO-56_TWO_STAGE',\n",
    "            'PRECIPITATION_METHOD':             'GRIDDED',\n",
    "            'GROWING_DEGREE_DAY_METHOD':        'BASKERVILLE_EMIN',\n",
    "            'FOG_METHOD':                       'NONE',\n",
    "            'FLOW_ROUTING_METHOD':              'NONE',\n",
    "            'IRRIGATION_METHOD':                'FAO-56',\n",
    "            'ROOTING_DEPTH_METHOD' :            'DYNAMIC',\n",
    "            'CROP_COEFFICIENT_METHOD':          'FAO-56',\n",
    "            'DIRECT_RECHARGE_METHOD':           'NONE',\n",
    "            'SOIL_STORAGE_MAX_METHOD':          'CALCULATE',\n",
    "            'AVAILABLE_WATER_CONTENT_METHOD' :  'GRIDDED'}"
   ]
  },
  {
   "cell_type": "code",
   "execution_count": null,
   "metadata": {},
   "outputs": [],
   "source": [
    "grids = {'HYDROLOGIC_SOILS_GROUP': 'ARC_GRID swb_files/soil_group.asc',\n",
    "        'HYDROLOGIC_SOILS_GROUP_PROJECTION_DEFINITION': proj4,\n",
    "        'LAND_USE': 'ARC_GRID swb_files/land_use.asc',\n",
    "        'LANDUSE_PROJECTION_DEFINITION': proj4,\n",
    "        'AVAILABLE_WATER_CONTENT': 'ARC_GRID swb_files/available_water_content.asc',\n",
    "        'AVAILABLE_WATER_CONTENT_PROJECTION_DEFINITION': proj4,\n",
    "        'IRRIGATION_MASK': 'ARC_GRID swb_files/irrigation.asc',\n",
    "        'IRRIGATION_MASK_PROJECTION_DEFINITION': proj4}"
   ]
  },
  {
   "cell_type": "code",
   "execution_count": null,
   "metadata": {},
   "outputs": [],
   "source": [
    "weather_data = {\n",
    "    'PRECIPITATION': 'NETCDF datasets/daily_weather/daymet_v3_prcp_%y_na__MAP_Model_Subset.nc4',\n",
    "    'PRECIPITATION_GRID_PROJECTION_DEFINITION': prof4_daymet,\n",
    "    'PRECIPITATION_NETCDF_Z_VAR':                'prcp',\n",
    "    'PRECIPITATION_SCALE_FACTOR':          0.03937008,\n",
    "    'PRECIPITATION_MISSING_VALUES_CODE':      -9999.0,\n",
    "    'PRECIPITATION_MISSING_VALUES_OPERATOR':      '<=',\n",
    "    'PRECIPITATION_MISSING_VALUES_ACTION':       'zero',\n",
    "\n",
    "    'TMAX': 'NETCDF datasets/daily_weather/daymet_v3_tmax_%y_na__MAP_Model_Subset.nc4',\n",
    "    'TMAX_GRID_PROJECTION_DEFINITION': prof4_daymet,\n",
    "    'TMAX_SCALE_FACTOR':                 1.8,\n",
    "    'TMAX_ADD_OFFSET':                  32.0,\n",
    "    'TMAX_MISSING_VALUES_CODE':      -9999.0,\n",
    "    'TMAX_MISSING_VALUES_OPERATOR':      '<=',\n",
    "    'TMAX_MISSING_VALUES_ACTION':       'mean',\n",
    "\n",
    "    'TMIN': 'NETCDF datasets/daily_weather/daymet_v3_tmin_%y_na__MAP_Model_Subset.nc4',\n",
    "    'TMIN_GRID_PROJECTION_DEFINITION': prof4_daymet,\n",
    "    'TMIN_SCALE_FACTOR':                 1.8,\n",
    "    'TMIN_ADD_OFFSET':                  32.0,\n",
    "    'TMIN_MISSING_VALUES_CODE':      -9999.0,\n",
    "    'TMIN_MISSING_VALUES_OPERATOR':      '<=',\n",
    "    'TMIN_MISSING_VALUES_ACTION':       'mean',\n",
    "\n",
    "    'INITIAL_CONTINUOUS_FROZEN_GROUND_INDEX': 'CONSTANT 25.0',\n",
    "    'UPPER_LIMIT_CFGI': '83.',\n",
    "    'LOWER_LIMIT_CFGI': '55.'\n",
    "}"
   ]
  },
  {
   "cell_type": "code",
   "execution_count": null,
   "metadata": {},
   "outputs": [],
   "source": [
    "lookup_tables = {\n",
    "    'LAND_USE_LOOKUP_TABLE': 'swb_files/Landuse_lookup_CDL.txt',\n",
    "    'IRRIGATION_LOOKUP_TABLE': 'swb_files/Irrigation_lookup_CDL.txt'\n",
    "}"
   ]
  },
  {
   "cell_type": "code",
   "execution_count": null,
   "metadata": {},
   "outputs": [],
   "source": [
    "general_directives = {\n",
    "    'INITIAL_PERCENT_SOIL_MOISTURE': 'CONSTANT 100.0',\n",
    "    'INITIAL_SNOW_COVER_STORAGE': 'CONSTANT 0.0',\n",
    "    'START_DATE': '01/01/2010',\n",
    "    'END_DATE': '12/31/2017'\n",
    "}"
   ]
  },
  {
   "cell_type": "code",
   "execution_count": null,
   "metadata": {},
   "outputs": [],
   "source": [
    "def arcify_rasters(fname, xll, yll, nrow, ncol, resolution):\n",
    "    indat = np.loadtxt(fname)\n",
    "    np.savetxt(fname.replace('.dat','.asc'), indat, comments='',\n",
    "               header='ncols {0:d}\\nnrows {1:d}\\nxllcorner {2:f}\\nyllcorner {3:f}\\ncellsize {4:f}\\nNODATA_value 0'.format(\n",
    "               ncol, nrow, xll, yll, resolution),\n",
    "              fmt = '%d',\n",
    "              )\n",
    "    shutil.copy2('swb_files/5070.prj', fname.replace('.dat','.prj'))"
   ]
  },
  {
   "cell_type": "code",
   "execution_count": null,
   "metadata": {},
   "outputs": [],
   "source": [
    "arcify_rasters('swb_files/land_use.dat', xll, yll, nrow, ncol, resolution)\n",
    "arcify_rasters('swb_files/parcels.dat', xll, yll, nrow, ncol, resolution)\n",
    "arcify_rasters('swb_files/soil_group.dat', xll, yll, nrow, ncol, resolution)\n",
    "arcify_rasters('swb_files/irrigation.dat', xll, yll, nrow, ncol, resolution)\n",
    "arcify_rasters('swb_files/available_water_content.dat', xll, yll, nrow, ncol, resolution)\n"
   ]
  },
  {
   "cell_type": "markdown",
   "metadata": {},
   "source": [
    "### write out the control file"
   ]
  },
  {
   "cell_type": "code",
   "execution_count": null,
   "metadata": {},
   "outputs": [],
   "source": [
    "with open(ctl_filename, 'w') as ofp:\n",
    "    ofp.write('# Freyberg Demonstration SWB synthetica MS Delta-ish\\n\\n')\n",
    "    ofp.write('# grid info\\n{0}\\n\\n'.format('-'*25))\n",
    "    [ofp.write('{0}     {1}\\n'.format(*i)) for i in grid_info.items()]    \n",
    "    ofp.write('\\n# methods info\\n{0}\\n\\n'.format('-'*25))\n",
    "    [ofp.write('{0}     {1}\\n'.format(*i)) for i in methods.items()]\n",
    "    ofp.write('\\n# weather data info\\n{0}\\n\\n'.format('-'*25))\n",
    "    [ofp.write('{0}     {1}\\n'.format(*i)) for i in weather_data.items()]\n",
    "    ofp.write('\\n# grids\\n{0}\\n\\n'.format('-'*25))\n",
    "    [ofp.write('{0}     {1}\\n'.format(*i)) for i in grids.items()]\n",
    "    ofp.write('\\n# lookup tables\\n{0}\\n\\n'.format('-'*25))\n",
    "    [ofp.write('{0}     {1}\\n'.format(*i)) for i in lookup_tables.items()]\n",
    "    ofp.write('\\n# general directives\\n{0}\\n\\n'.format('-'*25))\n",
    "    [ofp.write('{0}     {1}\\n'.format(*i)) for i in general_directives.items()]\n",
    "    "
   ]
  },
  {
   "cell_type": "code",
   "execution_count": null,
   "metadata": {},
   "outputs": [],
   "source": []
  }
 ],
 "metadata": {
  "kernelspec": {
   "display_name": "Python 3",
   "language": "python",
   "name": "python3"
  },
  "language_info": {
   "codemirror_mode": {
    "name": "ipython",
    "version": 3
   },
   "file_extension": ".py",
   "mimetype": "text/x-python",
   "name": "python",
   "nbconvert_exporter": "python",
   "pygments_lexer": "ipython3",
   "version": "3.7.3"
  }
 },
 "nbformat": 4,
 "nbformat_minor": 2
}
