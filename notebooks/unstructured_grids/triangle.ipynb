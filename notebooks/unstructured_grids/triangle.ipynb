{
 "cells": [
  {
   "cell_type": "markdown",
   "metadata": {},
   "source": [
    "# Exercise: Triangle\n",
    "The purpose of this exercise is to use flopy and triangle to build a triangular mesh."
   ]
  },
  {
   "cell_type": "markdown",
   "metadata": {},
   "source": [
    "Part I. Setup Notebook"
   ]
  },
  {
   "cell_type": "code",
   "execution_count": null,
   "metadata": {},
   "outputs": [],
   "source": [
    "import sys\n",
    "import os\n",
    "import shutil\n",
    "import numpy as np\n",
    "import matplotlib as mpl\n",
    "import matplotlib.pyplot as plt\n",
    "import flopy\n",
    "from flopy.utils.triangle import Triangle as Triangle\n",
    "%matplotlib inline\n"
   ]
  },
  {
   "cell_type": "code",
   "execution_count": null,
   "metadata": {},
   "outputs": [],
   "source": [
    "import geopandas as gp"
   ]
  },
  {
   "cell_type": "code",
   "execution_count": null,
   "metadata": {},
   "outputs": [],
   "source": [
    "ch10 = gp.read_file('Switzerland_shapefile/ch_10km.shp')\n",
    "ch10"
   ]
  },
  {
   "cell_type": "code",
   "execution_count": null,
   "metadata": {},
   "outputs": [],
   "source": [
    "ch10['country']='Suisse'\n",
    "ch10=ch10.dissolve(by='country')"
   ]
  },
  {
   "cell_type": "code",
   "execution_count": null,
   "metadata": {},
   "outputs": [],
   "source": [
    "ch10.geometry"
   ]
  },
  {
   "cell_type": "code",
   "execution_count": null,
   "metadata": {},
   "outputs": [],
   "source": [
    "ch10.to_file('suisse_outline.shp')"
   ]
  },
  {
   "cell_type": "code",
   "execution_count": null,
   "metadata": {},
   "outputs": [],
   "source": [
    "domainpoly = []\n",
    "for x,y in zip(ch10.geometry[0].boundary.xy[0],ch10.geometry[0].boundary.xy[1]):\n",
    "    domainpoly.append((float(x), float(y)))\n",
    "maximum_area = 200000000"
   ]
  },
  {
   "cell_type": "code",
   "execution_count": null,
   "metadata": {},
   "outputs": [],
   "source": [
    "len(ch10.geometry[0].boundary.xy[0])"
   ]
  },
  {
   "cell_type": "code",
   "execution_count": null,
   "metadata": {},
   "outputs": [],
   "source": [
    "model_ws = './triangle'\n",
    "if not os.path.exists(model_ws):\n",
    "    os.makedirs(model_ws)\n",
    "\n",
    "tri = Triangle(maximum_area=maximum_area, angle=33, model_ws=model_ws, \n",
    "               exe_name='triangle')\n",
    "tri.add_polygon(domainpoly)\n",
    "tri.build(verbose=False)\n",
    "fig = plt.figure(figsize=(10, 10))\n",
    "ax = plt.subplot(1, 1, 1, aspect='equal')\n",
    "pc = tri.plot(ax=ax)"
   ]
  },
  {
   "cell_type": "code",
   "execution_count": null,
   "metadata": {},
   "outputs": [],
   "source": [
    "tri.ncpl"
   ]
  },
  {
   "cell_type": "code",
   "execution_count": null,
   "metadata": {},
   "outputs": [],
   "source": [
    "# this shows all the boundary cells\n",
    "ibd = tri.get_boundary_marker_array()\n",
    "ibd = np.ma.masked_equal(ibd, 0)\n",
    "fig = plt.figure(figsize=(10, 10))\n",
    "ax = plt.subplot(1, 1, 1, aspect='equal')\n",
    "pc = tri.plot(a=ibd, cmap='jet')\n",
    "plt.colorbar(pc, shrink=0.5)"
   ]
  },
  {
   "cell_type": "code",
   "execution_count": null,
   "metadata": {},
   "outputs": [],
   "source": [
    "edgenodes = []\n",
    "for iedge in range(len(domainpoly)):\n",
    "    nodes = tri.get_edge_cells(iedge)\n",
    "    for n in nodes:\n",
    "        if n not in edgenodes:\n",
    "            edgenodes.append(n)"
   ]
  },
  {
   "cell_type": "code",
   "execution_count": null,
   "metadata": {},
   "outputs": [],
   "source": [
    "name = 'mf'\n",
    "sim = flopy.mf6.MFSimulation(sim_name=name, version='mf6',\n",
    "                             exe_name='mf6',\n",
    "                             sim_ws=model_ws)\n",
    "tdis = flopy.mf6.ModflowTdis(sim, time_units='DAYS',\n",
    "                             perioddata=[[1.0, 1, 1.]])\n",
    "gwf = flopy.mf6.ModflowGwf(sim, modelname=name, save_flows=True)\n",
    "ims = flopy.mf6.ModflowIms(sim, print_option='SUMMARY', complexity='complex', \n",
    "                           outer_hclose=1.e-5, inner_hclose=1.e-4)\n",
    "cell2d = tri.get_cell2d()\n",
    "vertices = tri.get_vertices()\n",
    "xcyc = tri.get_xcyc()\n",
    "nlay = 1\n",
    "ncpl = tri.ncpl\n",
    "nvert = tri.nvert\n",
    "top = 1.\n",
    "botm = [0.]\n",
    "dis = flopy.mf6.ModflowGwfdisv(gwf, nlay=nlay, ncpl=ncpl, nvert=nvert,\n",
    "                               top=top, botm=botm, \n",
    "                               vertices=vertices, cell2d=cell2d)\n",
    "npf = flopy.mf6.ModflowGwfnpf(gwf, xt3doptions=[True], \n",
    "                              save_specific_discharge=True)\n",
    "ic = flopy.mf6.ModflowGwfic(gwf)\n",
    "\n",
    "chdlist = []\n",
    "for icpl in edgenodes:\n",
    "    h = 0.\n",
    "    chdlist.append([(0, icpl), h])\n",
    "chd = flopy.mf6.ModflowGwfchd(gwf, stress_period_data=chdlist)\n",
    "rch = flopy.mf6.ModflowGwfrcha(gwf, recharge=0.01)\n",
    "oc = flopy.mf6.ModflowGwfoc(gwf,\n",
    "                            budget_filerecord='{}.cbc'.format(name),\n",
    "                            head_filerecord='{}.hds'.format(name),\n",
    "                            saverecord=[('HEAD', 'LAST'),\n",
    "                                        ('BUDGET', 'LAST')],\n",
    "                            printrecord=[('HEAD', 'LAST'),\n",
    "                                         ('BUDGET', 'LAST')])\n",
    "sim.write_simulation()\n",
    "success, buff = sim.run_simulation(report=True)"
   ]
  },
  {
   "cell_type": "code",
   "execution_count": null,
   "metadata": {},
   "outputs": [],
   "source": [
    "fname = os.path.join(model_ws, name + '.hds')\n",
    "hdobj = flopy.utils.HeadFile(fname, precision='double')\n",
    "head = hdobj.get_data()\n",
    "fname = os.path.join(model_ws, name + '.cbc')\n",
    "bdobj = flopy.utils.CellBudgetFile(fname, precision='double', verbose=False)\n",
    "spdis = bdobj.get_data(text='DATA-SPDIS')[0]\n",
    "\n",
    "fig = plt.figure(figsize=(15, 15))\n",
    "ax = plt.subplot(1, 1, 1, aspect='equal')\n",
    "tri.plot(ax=ax, a=head[0, 0, :], cmap='jet', alpha=.3)"
   ]
  },
  {
   "cell_type": "code",
   "execution_count": null,
   "metadata": {},
   "outputs": [],
   "source": [
    "# with vectors\n",
    "fig = plt.figure(figsize=(15, 15))\n",
    "ax = plt.subplot(1, 1, 1, aspect='equal')\n",
    "pmv = flopy.plot.PlotMapView(model=gwf, ax=ax)\n",
    "pmv.plot_array(head[0, :, :], cmap='jet', edgecolor='0.1', alpha=0.3)\n",
    "pmv.plot_specific_discharge(spdis)"
   ]
  },
  {
   "cell_type": "code",
   "execution_count": null,
   "metadata": {},
   "outputs": [],
   "source": []
  }
 ],
 "metadata": {
  "kernelspec": {
   "display_name": "Python 3",
   "language": "python",
   "name": "python3"
  },
  "language_info": {
   "codemirror_mode": {
    "name": "ipython",
    "version": 3
   },
   "file_extension": ".py",
   "mimetype": "text/x-python",
   "name": "python",
   "nbconvert_exporter": "python",
   "pygments_lexer": "ipython3",
   "version": "3.7.3"
  }
 },
 "nbformat": 4,
 "nbformat_minor": 2
}
