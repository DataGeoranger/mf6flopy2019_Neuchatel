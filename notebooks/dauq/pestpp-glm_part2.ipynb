{
 "cells": [
  {
   "cell_type": "markdown",
   "metadata": {},
   "source": [
    "# PESTPP-GLM Part 2"
   ]
  },
  {
   "cell_type": "markdown",
   "metadata": {},
   "source": [
    "In this notebook, we will actually run PESTPP-GLM in standard parameter estimation mode and regularization mode.  In both cases, we will use the baked-in bayes-linear posterior monte carlo analysis to get posterior forecast PDFs.  We will use the prior monte carlo outputs as the prior forecast PDF. We will reuse the jacobian we used for FOSM to save runs"
   ]
  },
  {
   "cell_type": "code",
   "execution_count": null,
   "metadata": {},
   "outputs": [],
   "source": [
    "%matplotlib inline\n",
    "import os\n",
    "import shutil\n",
    "import numpy as np\n",
    "import pandas as pd\n",
    "import matplotlib.pyplot as plt\n",
    "import matplotlib as mpl\n",
    "plt.rcParams['font.size']=12\n",
    "import flopy\n",
    "import pyemu\n"
   ]
  },
  {
   "cell_type": "markdown",
   "metadata": {},
   "source": [
    "## SUPER IMPORTANT: SET HOW MANY PARALLEL WORKERS TO USE"
   ]
  },
  {
   "cell_type": "code",
   "execution_count": null,
   "metadata": {},
   "outputs": [],
   "source": [
    "num_workers = 20"
   ]
  },
  {
   "cell_type": "code",
   "execution_count": null,
   "metadata": {},
   "outputs": [],
   "source": [
    "t_d = \"template\"\n",
    "m_d = \"master_glm_run\""
   ]
  },
  {
   "cell_type": "code",
   "execution_count": null,
   "metadata": {},
   "outputs": [],
   "source": [
    "pst = pyemu.Pst(os.path.join(t_d,\"freyberg_pp.pst\"))\n",
    "pst.write_par_summary_table(filename=\"none\")"
   ]
  },
  {
   "cell_type": "markdown",
   "metadata": {},
   "source": [
    "Load and extract the portion of the prior we need for FOSM"
   ]
  },
  {
   "cell_type": "code",
   "execution_count": null,
   "metadata": {},
   "outputs": [],
   "source": [
    "cov = pyemu.Cov.from_binary(os.path.join(t_d,\"prior_cov.jcb\"))\n",
    "cov.get(pst.adj_par_names).to_ascii(os.path.join(t_d,\"glm_prior.cov\"))"
   ]
  },
  {
   "cell_type": "markdown",
   "metadata": {},
   "source": [
    " set some control options"
   ]
  },
  {
   "cell_type": "code",
   "execution_count": null,
   "metadata": {},
   "outputs": [],
   "source": [
    "pst.control_data.noptmax = 3\n",
    "pst.pestpp_options[\"n_iter_base\"] = -1\n",
    "pst.pestpp_options[\"n_iter_super\"] = 3\n",
    "pst.pestpp_options[\"num_reals\"] = 50 # this is how many ies uses\n",
    "pst.pestpp_options[\"parcov\"] = \"glm_prior.cov\"\n",
    "pst.pestpp_options[\"base_jacobian\"] = \"freyberg_reuse.jcb\"\n",
    "pst.write(os.path.join(t_d,\"freyberg_pp.pst\"))"
   ]
  },
  {
   "cell_type": "code",
   "execution_count": null,
   "metadata": {},
   "outputs": [],
   "source": [
    "shutil.copy2(os.path.join(\"master_glm\",\"freyberg_pp.jcb\"),\n",
    "             os.path.join(t_d,\"freyberg_reuse.jcb\"))"
   ]
  },
  {
   "cell_type": "code",
   "execution_count": null,
   "metadata": {},
   "outputs": [],
   "source": [
    "pyemu.os_utils.start_slaves(t_d,\"pestpp-glm\",\"freyberg_pp.pst\",num_slaves=num_workers,slave_root=\".\",\n",
    "                           master_dir=m_d)"
   ]
  },
  {
   "cell_type": "code",
   "execution_count": null,
   "metadata": {},
   "outputs": [],
   "source": [
    "df = df=pd.read_csv(os.path.join(m_d,\"freyberg_pp.post.obsen.csv\"),index_col=0)\n",
    "oe = pyemu.ObservationEnsemble.from_dataframe(pst=pst,df=df)"
   ]
  },
  {
   "cell_type": "code",
   "execution_count": null,
   "metadata": {},
   "outputs": [],
   "source": [
    "ax = oe.phi_vector.hist()#bins=np.linspace(0,100,20))\n",
    "oe.phi_vector.sort_values().iloc[:20]"
   ]
  },
  {
   "cell_type": "markdown",
   "metadata": {},
   "source": [
    "Here we see the distribution of phi values across the 100 posterior realizations.  Should we accept all of these???  The theoretical phi for each realization that we should accept is number of nonzero obs (14)."
   ]
  },
  {
   "cell_type": "markdown",
   "metadata": {},
   "source": [
    "To get a \"posterior\" ensemble, we need to throw out the realizations with large phi - lets just take the 20 best:"
   ]
  },
  {
   "cell_type": "code",
   "execution_count": null,
   "metadata": {},
   "outputs": [],
   "source": [
    "oe_pt = oe.loc[oe.phi_vector.sort_values().index[:20],:] #just take the 20 lowest phi realizations"
   ]
  },
  {
   "cell_type": "markdown",
   "metadata": {},
   "source": [
    "We can also load and plot the FOSM forecast results along side of the ensemble results:"
   ]
  },
  {
   "cell_type": "code",
   "execution_count": null,
   "metadata": {},
   "outputs": [],
   "source": [
    "f_df = pd.read_csv(os.path.join(m_d,\"freyberg_pp.pred.usum.csv\"),index_col=0)\n",
    "f_df.index = f_df.index.map(str.lower)\n",
    "f_df"
   ]
  },
  {
   "cell_type": "code",
   "execution_count": null,
   "metadata": {},
   "outputs": [],
   "source": [
    "obs = pst.observation_data\n",
    "fnames = pst.pestpp_options[\"forecasts\"].split(\",\")\n",
    "for forecast in fnames:\n",
    "    ax = plt.subplot(111)\n",
    "    oe_pt.loc[:,forecast].hist(ax=ax,color=\"b\",alpha=0.5,normed=True)\n",
    "    ax.plot([obs.loc[forecast,\"obsval\"],obs.loc[forecast,\"obsval\"]],ax.get_ylim(),\"r\")\n",
    "    axt = plt.twinx()\n",
    "    x,y = pyemu.plot_utils.gaussian_distribution(f_df.loc[forecast,\"prior_mean\"],f_df.loc[forecast,\"prior_stdev\"])\n",
    "    axt.fill_between(x,0,y,facecolor=\"0.5\",alpha=0.25)\n",
    "    x,y = pyemu.plot_utils.gaussian_distribution(f_df.loc[forecast,\"post_mean\"],f_df.loc[forecast,\"post_stdev\"])\n",
    "    axt.fill_between(x,0,y,facecolor=\"b\",alpha=0.25)\n",
    "    axt.set_ylim(0,axt.get_ylim()[1])\n",
    "    axt.set_yticks([])\n",
    "    ax.set_title(forecast)\n",
    "    plt.show()"
   ]
  },
  {
   "cell_type": "code",
   "execution_count": null,
   "metadata": {},
   "outputs": [],
   "source": [
    "pst.control_data.noptmax = 3\n",
    "pst.pestpp_options[\"n_iter_base\"] = -1\n",
    "pst.pestpp_options[\"n_iter_super\"] = 3\n",
    "pst.pestpp_options[\"num_reals\"] = 150 # this is how many ies uses\n",
    "pst.pestpp_options[\"parcov\"] = \"glm_prior.cov\"\n",
    "pst.pestpp_options[\"base_jacobian\"] = \"freyberg_reuse.jcb\"\n",
    "pst.write(os.path.join(t_d,\"freyberg_pp.pst\"))\n",
    "pyemu.os_utils.start_slaves(t_d,\"pestpp-glm\",\"freyberg_pp.pst\",num_slaves=num_workers,slave_root=\".\",\n",
    "                           master_dir=m_d)"
   ]
  },
  {
   "cell_type": "code",
   "execution_count": null,
   "metadata": {},
   "outputs": [],
   "source": [
    "df = df=pd.read_csv(os.path.join(m_d,\"freyberg_pp.post.obsen.csv\"),index_col=0)\n",
    "oe = pyemu.ObservationEnsemble.from_dataframe(pst=pst,df=df)\n",
    "ax = oe.phi_vector.hist()#bins=np.linspace(0,100,20))\n",
    "oe.phi_vector.sort_values().iloc[:20]"
   ]
  },
  {
   "cell_type": "code",
   "execution_count": null,
   "metadata": {},
   "outputs": [],
   "source": [
    "oe_pt = oe.loc[oe.phi_vector.sort_values().index[:20],:] #just take the 20 lowest phi"
   ]
  },
  {
   "cell_type": "code",
   "execution_count": null,
   "metadata": {},
   "outputs": [],
   "source": [
    "f_df = pd.read_csv(os.path.join(m_d,\"freyberg_pp.pred.usum.csv\"),index_col=0)\n",
    "f_df.index = f_df.index.map(str.lower)\n",
    "f_df"
   ]
  },
  {
   "cell_type": "code",
   "execution_count": null,
   "metadata": {},
   "outputs": [],
   "source": [
    "obs = pst.observation_data\n",
    "fnames = pst.pestpp_options[\"forecasts\"].split(\",\")\n",
    "for forecast in fnames:\n",
    "    ax = plt.subplot(111)\n",
    "    oe_pt.loc[:,forecast].hist(ax=ax,color=\"b\",alpha=0.5,normed=True)\n",
    "    ax.plot([obs.loc[forecast,\"obsval\"],obs.loc[forecast,\"obsval\"]],ax.get_ylim(),\"r\")\n",
    "    axt = plt.twinx()\n",
    "    x,y = pyemu.plot_utils.gaussian_distribution(f_df.loc[forecast,\"prior_mean\"],f_df.loc[forecast,\"prior_stdev\"])\n",
    "    axt.fill_between(x,0,y,facecolor=\"0.5\",alpha=0.25)\n",
    "    x,y = pyemu.plot_utils.gaussian_distribution(f_df.loc[forecast,\"post_mean\"],f_df.loc[forecast,\"post_stdev\"])\n",
    "    axt.fill_between(x,0,y,facecolor=\"b\",alpha=0.25)\n",
    "    axt.set_ylim(0,axt.get_ylim()[1])\n",
    "    axt.set_yticks([])\n",
    "    ax.set_title(forecast)\n",
    "    plt.show()"
   ]
  },
  {
   "cell_type": "markdown",
   "metadata": {},
   "source": [
    "### Check your understanding:  \n",
    "What assumption did the posterior FOSM Monte Carlo relax? \n",
    "\n",
    "### Check your understanding:  \n",
    "Why didn't the posterior parameter realizations yield a lower phi?  What are the implications of accepting realizations with a higher phi?"
   ]
  },
  {
   "cell_type": "markdown",
   "metadata": {},
   "source": [
    "### Setup of Tikhonov regularization\n",
    "\n",
    "Now lets setup and use some formal regularization to bring the final phi up to around 14.  We will use first-order regularization based on the covariance matrix we build earlier:"
   ]
  },
  {
   "cell_type": "code",
   "execution_count": null,
   "metadata": {},
   "outputs": [],
   "source": [
    "cov = pyemu.Cov.from_ascii(os.path.join(t_d,\"glm_prior.cov\"))"
   ]
  },
  {
   "cell_type": "code",
   "execution_count": null,
   "metadata": {},
   "outputs": [],
   "source": [
    "pyemu.helpers.first_order_pearson_tikhonov(pst,cov)"
   ]
  },
  {
   "cell_type": "code",
   "execution_count": null,
   "metadata": {},
   "outputs": [],
   "source": [
    "pst.prior_information.sort_values(by=\"weight\",ascending=False).iloc[-10:]"
   ]
  },
  {
   "cell_type": "code",
   "execution_count": null,
   "metadata": {},
   "outputs": [],
   "source": [
    "pst.reg_data.phimlim = pst.nnz_obs\n",
    "pst.reg_data.phimaccept = pst.reg_data.phimlim * 1.1\n",
    "pst.pestpp_options[\"num_reals\"] = 150\n",
    "pst.write(os.path.join(t_d,\"freyberg_pp.pst\"))"
   ]
  },
  {
   "cell_type": "code",
   "execution_count": null,
   "metadata": {},
   "outputs": [],
   "source": [
    "pyemu.os_utils.start_slaves(t_d,\"pestpp-glm\",\"freyberg_pp.pst\",num_slaves=num_workers,slave_root=\".\",\n",
    "                           master_dir=m_d)"
   ]
  },
  {
   "cell_type": "code",
   "execution_count": null,
   "metadata": {},
   "outputs": [],
   "source": [
    "df = df=pd.read_csv(os.path.join(m_d,\"freyberg_pp.post.obsen.csv\"),index_col=0)\n",
    "oe = pyemu.ObservationEnsemble.from_dataframe(pst=pst,df=df)"
   ]
  },
  {
   "cell_type": "code",
   "execution_count": null,
   "metadata": {},
   "outputs": [],
   "source": [
    "ax = oe.phi_vector.hist()#bins=np.linspace(0,100,20))\n",
    "oe.phi_vector.sort_values().iloc[:20]"
   ]
  },
  {
   "cell_type": "markdown",
   "metadata": {},
   "source": [
    "Same as before, to get a \"posterior\" ensemble, we need to throw out the realizations with large phi - lets just take the 20 best:"
   ]
  },
  {
   "cell_type": "code",
   "execution_count": null,
   "metadata": {},
   "outputs": [],
   "source": [
    "oe_pt = oe.loc[oe.phi_vector.sort_values().index[:20],:] "
   ]
  },
  {
   "cell_type": "code",
   "execution_count": null,
   "metadata": {},
   "outputs": [],
   "source": [
    "f_df = pd.read_csv(os.path.join(m_d,\"freyberg_pp.pred.usum.csv\"),index_col=0)\n",
    "f_df.index = f_df.index.map(str.lower)\n",
    "f_df"
   ]
  },
  {
   "cell_type": "code",
   "execution_count": null,
   "metadata": {},
   "outputs": [],
   "source": [
    "obs = pst.observation_data\n",
    "fnames = pst.pestpp_options[\"forecasts\"].split(\",\")\n",
    "for forecast in fnames:\n",
    "    ax = plt.subplot(111)\n",
    "    oe_pt.loc[:,forecast].hist(ax=ax,color=\"b\",alpha=0.5,normed=True)\n",
    "    ax.plot([obs.loc[forecast,\"obsval\"],obs.loc[forecast,\"obsval\"]],ax.get_ylim(),\"r\")\n",
    "    axt = plt.twinx()\n",
    "    x,y = pyemu.plot_utils.gaussian_distribution(f_df.loc[forecast,\"prior_mean\"],f_df.loc[forecast,\"prior_stdev\"])\n",
    "    axt.fill_between(x,0,y,facecolor=\"0.5\",alpha=0.25)\n",
    "    x,y = pyemu.plot_utils.gaussian_distribution(f_df.loc[forecast,\"post_mean\"],f_df.loc[forecast,\"post_stdev\"])\n",
    "    axt.fill_between(x,0,y,facecolor=\"b\",alpha=0.25)\n",
    "    axt.set_ylim(0,axt.get_ylim()[1])\n",
    "    axt.set_yticks([])\n",
    "    ax.set_title(forecast)\n",
    "    plt.show()"
   ]
  },
  {
   "cell_type": "code",
   "execution_count": null,
   "metadata": {},
   "outputs": [],
   "source": []
  }
 ],
 "metadata": {
  "kernelspec": {
   "display_name": "Python 3",
   "language": "python",
   "name": "python3"
  },
  "language_info": {
   "codemirror_mode": {
    "name": "ipython",
    "version": 3
   },
   "file_extension": ".py",
   "mimetype": "text/x-python",
   "name": "python",
   "nbconvert_exporter": "python",
   "pygments_lexer": "ipython3",
   "version": "3.5.6"
  }
 },
 "nbformat": 4,
 "nbformat_minor": 2
}
