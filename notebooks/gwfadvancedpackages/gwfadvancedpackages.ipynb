{
 "cells": [
  {
   "cell_type": "markdown",
   "metadata": {},
   "source": [
    "# MODFLOW 6 GWF Model: Advanced Packages\n",
    "\n",
    "The purpose of this exercise is to convert the RIV and lake CHD packages to SFR and LAK packages, respectively, and add a mover package to transfer water between the SFR and LAK packages. We will also use a time series file to define SFR inflows and add LAK and SFR observations."
   ]
  },
  {
   "cell_type": "code",
   "execution_count": null,
   "metadata": {},
   "outputs": [],
   "source": [
    "import os\n",
    "import sys\n",
    "import numpy as np\n",
    "import flopy\n",
    "import matplotlib as mpl\n",
    "import matplotlib.pyplot as plt\n",
    "\n",
    "print(sys.version)\n",
    "print('python executable: {}'.format(sys.executable))\n",
    "print('numpy version: {}'.format(np.__version__))\n",
    "print('matplotlib version: {}'.format(mpl.__version__))\n",
    "print('flopy version: {}'.format(flopy.__version__))"
   ]
  },
  {
   "cell_type": "markdown",
   "metadata": {},
   "source": [
    "### Load an existing model with traditional packages"
   ]
  },
  {
   "cell_type": "code",
   "execution_count": null,
   "metadata": {
    "scrolled": true
   },
   "outputs": [],
   "source": [
    "data_ws = '../../data/gwt_ts2/'\n",
    "mname = 'gwt_ts2'\n",
    "s = flopy.mf6.MFSimulation().load(sim_ws=data_ws, exe_name='mf6')"
   ]
  },
  {
   "cell_type": "markdown",
   "metadata": {},
   "source": [
    "#### Get list of files in the data workspace directory"
   ]
  },
  {
   "cell_type": "code",
   "execution_count": null,
   "metadata": {},
   "outputs": [],
   "source": [
    "os.listdir(data_ws)"
   ]
  },
  {
   "cell_type": "markdown",
   "metadata": {},
   "source": [
    "#### Change the model work space\n",
    "\n",
    "We will change the model workspace so we don't overwrite the original model files."
   ]
  },
  {
   "cell_type": "code",
   "execution_count": null,
   "metadata": {},
   "outputs": [],
   "source": [
    "model_ws = '../../working/advpack/'\n",
    "s.set_sim_path(model_ws)"
   ]
  },
  {
   "cell_type": "code",
   "execution_count": null,
   "metadata": {},
   "outputs": [],
   "source": [
    "# get the groundwater model\n",
    "gwf = s.get_model(mname)"
   ]
  },
  {
   "cell_type": "markdown",
   "metadata": {},
   "source": [
    "#### Retrieve nlay, nrow, and ncol from the groundwater flow model"
   ]
  },
  {
   "cell_type": "code",
   "execution_count": null,
   "metadata": {},
   "outputs": [],
   "source": [
    "nlay, nrow, ncol = gwf.dis.nlay.array, gwf.dis.nrow.array, gwf.dis.ncol.array\n",
    "nlay, nrow, ncol"
   ]
  },
  {
   "cell_type": "markdown",
   "metadata": {},
   "source": [
    "### Get the package names\n",
    "\n",
    "We will need the package names to get data from the existing packages representing the river and lakes in the model domain."
   ]
  },
  {
   "cell_type": "code",
   "execution_count": null,
   "metadata": {},
   "outputs": [],
   "source": [
    "gwf.package_names"
   ]
  },
  {
   "cell_type": "markdown",
   "metadata": {},
   "source": [
    "### Plot the locations of the the river and lake boundaries"
   ]
  },
  {
   "cell_type": "code",
   "execution_count": null,
   "metadata": {},
   "outputs": [],
   "source": [
    "mm = flopy.plot.PlotMapView(model=gwf)\n",
    "mm.plot_grid(lw=0.5, color='black')\n",
    "mm.plot_bc('RIV')\n",
    "mm.plot_bc('LAK-1', color='cyan')\n",
    "mm.plot_ibound()"
   ]
  },
  {
   "cell_type": "markdown",
   "metadata": {},
   "source": [
    "### Get the river location data from the existing river package"
   ]
  },
  {
   "cell_type": "code",
   "execution_count": null,
   "metadata": {},
   "outputs": [],
   "source": [
    "riv = gwf.get_package('RIV-1')\n",
    "rivspd = riv.stress_period_data.get_data(key=0)\n",
    "rivspd.dtype"
   ]
  },
  {
   "cell_type": "markdown",
   "metadata": {},
   "source": [
    "### Remove the existing river package"
   ]
  },
  {
   "cell_type": "code",
   "execution_count": null,
   "metadata": {},
   "outputs": [],
   "source": [
    "# get rid of the existing river package\n",
    "gwf.remove_package('RIV')"
   ]
  },
  {
   "cell_type": "markdown",
   "metadata": {},
   "source": [
    "### Create the SFR model from the river location data and data in `'sfr-packagedata.dat'`"
   ]
  },
  {
   "cell_type": "code",
   "execution_count": null,
   "metadata": {},
   "outputs": [],
   "source": [
    "# read sfr package data\n",
    "sfrpd = np.genfromtxt(data_ws + 'sfr-packagedata.dat', names=True)\n",
    "sfrpd.dtype"
   ]
  },
  {
   "cell_type": "markdown",
   "metadata": {},
   "source": [
    "#### Create a default dtype for the SFR packagedata"
   ]
  },
  {
   "cell_type": "code",
   "execution_count": null,
   "metadata": {},
   "outputs": [],
   "source": [
    "# create a default dtype\n",
    "sfrpackagedata = flopy.mf6.ModflowGwfsfr.packagedata.empty(gwf, boundnames=True, maxbound=rivspd.shape[0])\n",
    "sfrpackagedata.dtype"
   ]
  },
  {
   "cell_type": "code",
   "execution_count": null,
   "metadata": {},
   "outputs": [],
   "source": [
    "# fill package data\n",
    "for name in sfrpackagedata.dtype.names :\n",
    "    if name in rivspd.dtype.names:\n",
    "        sfrpackagedata[name] = rivspd[name]\n",
    "sfrpackagedata"
   ]
  },
  {
   "cell_type": "markdown",
   "metadata": {},
   "source": [
    "#### Fill the empty array with data read from `'sfr-packagedata.dat'`"
   ]
  },
  {
   "cell_type": "code",
   "execution_count": null,
   "metadata": {},
   "outputs": [],
   "source": [
    "for name in sfrpackagedata.dtype.names:\n",
    "    if name in sfrpd.dtype.names:\n",
    "        sfrpackagedata[name] = sfrpd[name]\n",
    "sfrpackagedata['boundnames'] = rivspd['boundname']    \n",
    "sfrpackagedata    "
   ]
  },
  {
   "cell_type": "code",
   "execution_count": null,
   "metadata": {},
   "outputs": [],
   "source": [
    "type(sfrpackagedata['cellid'][0])"
   ]
  },
  {
   "cell_type": "markdown",
   "metadata": {},
   "source": [
    "### Read SFR connection data from `'sfr-connectiondata.dat'`"
   ]
  },
  {
   "cell_type": "code",
   "execution_count": null,
   "metadata": {},
   "outputs": [],
   "source": [
    "with open(data_ws + 'sfr-connectiondata.dat') as f: \n",
    "    lines = f.readlines()\n",
    "sfrconnectiondata = []\n",
    "for line in lines:\n",
    "    t = line.split()\n",
    "    c = []\n",
    "    for v in t:\n",
    "        i = int(v)\n",
    "        c.append(i)\n",
    "    sfrconnectiondata.append(c)"
   ]
  },
  {
   "cell_type": "markdown",
   "metadata": {},
   "source": [
    "#### Load time series that can be used to specify inflows"
   ]
  },
  {
   "cell_type": "code",
   "execution_count": null,
   "metadata": {},
   "outputs": [],
   "source": [
    "# load inflow timeseries data\n",
    "inflow_data = np.loadtxt(data_ws + 'sfr_timeseries.dat')"
   ]
  },
  {
   "cell_type": "markdown",
   "metadata": {},
   "source": [
    "#### Calculate the mean inflow"
   ]
  },
  {
   "cell_type": "code",
   "execution_count": null,
   "metadata": {},
   "outputs": [],
   "source": [
    "mean_inflow = inflow_data[:, 1].mean()\n",
    "mean_inflow"
   ]
  },
  {
   "cell_type": "markdown",
   "metadata": {},
   "source": [
    "#### Plot the time series data"
   ]
  },
  {
   "cell_type": "code",
   "execution_count": null,
   "metadata": {},
   "outputs": [],
   "source": [
    "plt.plot(inflow_data[:, 0], inflow_data[:, 1])"
   ]
  },
  {
   "cell_type": "markdown",
   "metadata": {},
   "source": [
    "#### Create a list of tuples for the inflow data"
   ]
  },
  {
   "cell_type": "code",
   "execution_count": null,
   "metadata": {},
   "outputs": [],
   "source": [
    "inflow_data = list(map(tuple, inflow_data))\n",
    "#inflow_data"
   ]
  },
  {
   "cell_type": "markdown",
   "metadata": {},
   "source": [
    "#### Create SFR inflows"
   ]
  },
  {
   "cell_type": "code",
   "execution_count": null,
   "metadata": {},
   "outputs": [],
   "source": [
    "sfrperioddata = {0: [[0, 'inflow', mean_inflow]]}\n",
    "time_series_dict = None"
   ]
  },
  {
   "cell_type": "markdown",
   "metadata": {},
   "source": [
    "#### Class exercise 1\n",
    "\n",
    "Uncomment cell block below to use a time varying inflow rate"
   ]
  },
  {
   "cell_type": "code",
   "execution_count": null,
   "metadata": {},
   "outputs": [],
   "source": [
    "# sfrperioddata = {0: [[0, 'inflow', 'inflow_rate']]}\n",
    "# time_series_dict = {'filename': 'sfr-inflow-rates.ts',\n",
    "#                     'timeseries': inflow_data,\n",
    "#                     'time_series_namerecord': 'inflow_rate',\n",
    "#                     'interpolation_methodrecord': 'linear'}"
   ]
  },
  {
   "cell_type": "markdown",
   "metadata": {},
   "source": [
    "#### Add the SFR model to the GWF model"
   ]
  },
  {
   "cell_type": "code",
   "execution_count": null,
   "metadata": {},
   "outputs": [],
   "source": [
    "sfr = flopy.mf6.ModflowGwfsfr(gwf, \n",
    "                              stage_filerecord=mname+'.sfr.stage.bin', \n",
    "                              budget_filerecord=mname+'.sfr.cbc', \n",
    "                              mover=True, pname='SFR-1',\n",
    "                              unit_conversion=128390.00, \n",
    "                              boundnames=True, nreaches=38,\n",
    "                              packagedata=sfrpackagedata, \n",
    "                              connectiondata=sfrconnectiondata,\n",
    "                              perioddata=sfrperioddata,\n",
    "                              timeseries=time_series_dict)"
   ]
  },
  {
   "cell_type": "code",
   "execution_count": null,
   "metadata": {},
   "outputs": [],
   "source": [
    "sfrobsname = mname + '.sfr.obs'\n",
    "sfr_obs = [('SFR06-S', 'STAGE', 5), ('SFR06-Q', 'DOWNSTREAM-FLOW', 5),\n",
    "           ('SFR07-S', 'STAGE', 6), ('SFR07-Q', 'DOWNSTREAM-FLOW', 6),\n",
    "           ('SFR38-S', 'STAGE', 37), ('SFR38-Q', 'DOWNSTREAM-FLOW', 37),\n",
    "           ('SEG01', 'SFR', 'SEG1'), ('SEG02', 'SFR', 'SEG2'),\n",
    "           ('SEG03', 'SFR', 'SEG3'), ('SEG04', 'SFR', 'SEG4')]\n",
    "sfr.obs.initialize(filename=sfrobsname, continuous={sfrobsname + '.csv': sfr_obs})"
   ]
  },
  {
   "cell_type": "markdown",
   "metadata": {},
   "source": [
    "### Create the Lake package\n",
    "\n",
    "Get the cellids for the lake from the CHD package that currently defines the lakes"
   ]
  },
  {
   "cell_type": "code",
   "execution_count": null,
   "metadata": {},
   "outputs": [],
   "source": [
    "lakchd = gwf.get_package('LAK-1')\n",
    "chdspd = lakchd.stress_period_data.get_data(key=0)\n",
    "chdloc = chdspd['cellid']\n",
    "chdloc"
   ]
  },
  {
   "cell_type": "markdown",
   "metadata": {},
   "source": [
    "#### Remove the CHD package representing the lake"
   ]
  },
  {
   "cell_type": "code",
   "execution_count": null,
   "metadata": {},
   "outputs": [],
   "source": [
    "gwf.remove_package('LAK-1')"
   ]
  },
  {
   "cell_type": "markdown",
   "metadata": {},
   "source": [
    "#### Read the lake packagedata from `'lak-connectiondata.dat'`"
   ]
  },
  {
   "cell_type": "code",
   "execution_count": null,
   "metadata": {},
   "outputs": [],
   "source": [
    "# read lak package data\n",
    "dtype = [('lakeno', np.int32), ('iconn', np.int32), \n",
    "         ('k', np.int32), ('i', np.int32), ('j', np.int32), \n",
    "         ('claktype', '|U20'), ('bedleak', np.float), ('belev', np.float), \n",
    "         ('telev', np.float), ('connlen', np.float), ('connwidth', np.float)]\n",
    "lakpd = np.genfromtxt(data_ws + 'lak-connectiondata.dat', dtype=dtype)\n",
    "lakpd.dtype"
   ]
  },
  {
   "cell_type": "markdown",
   "metadata": {},
   "source": [
    "#### Create cellids for the lakes"
   ]
  },
  {
   "cell_type": "code",
   "execution_count": null,
   "metadata": {},
   "outputs": [],
   "source": [
    "arr = np.column_stack((lakpd['k'], lakpd['i'], lakpd['j']))\n",
    "cellid = tuple(map(tuple, arr))\n",
    "len(cellid)"
   ]
  },
  {
   "cell_type": "markdown",
   "metadata": {},
   "source": [
    "#### Create Lake connectiondata"
   ]
  },
  {
   "cell_type": "code",
   "execution_count": null,
   "metadata": {},
   "outputs": [],
   "source": [
    "lakeconnectiondata = flopy.mf6.ModflowGwflak.connectiondata.empty(gwf, maxbound=len(cellid))\n",
    "for name in lakeconnectiondata.dtype.names:\n",
    "    if name == 'cellid':\n",
    "        lakeconnectiondata[name] = cellid\n",
    "    else:\n",
    "        lakeconnectiondata[name] = lakpd[name]\n",
    "lakeconnectiondata"
   ]
  },
  {
   "cell_type": "markdown",
   "metadata": {},
   "source": [
    "#### Get the unique lake numbers"
   ]
  },
  {
   "cell_type": "code",
   "execution_count": null,
   "metadata": {},
   "outputs": [],
   "source": [
    "uniquelakes = np.unique(lakpd['lakeno'])\n",
    "uniquelakes"
   ]
  },
  {
   "cell_type": "code",
   "execution_count": null,
   "metadata": {},
   "outputs": [],
   "source": [
    "nlakecon = np.zeros(uniquelakes.shape, dtype=np.int)\n",
    "for lak in lakpd['lakeno']:\n",
    "    for idx, lid in enumerate(uniquelakes):\n",
    "        if lid == lak:\n",
    "            nlakecon[idx] += 1\n",
    "nlakecon"
   ]
  },
  {
   "cell_type": "code",
   "execution_count": null,
   "metadata": {},
   "outputs": [],
   "source": [
    "lakpackagedata = [[0, 44., nlakecon[0], 'lake1'],\n",
    "                  [1, 35.2, nlakecon[1], 'lake2']]"
   ]
  },
  {
   "cell_type": "markdown",
   "metadata": {},
   "source": [
    "#### Create outlet data"
   ]
  },
  {
   "cell_type": "code",
   "execution_count": null,
   "metadata": {},
   "outputs": [],
   "source": [
    "outlet=[[0, 0, 0, 'MANNING', 44.5, 5.000000, 0.03,  0.2187500E-02]]"
   ]
  },
  {
   "cell_type": "markdown",
   "metadata": {},
   "source": [
    "#### Create the lake package"
   ]
  },
  {
   "cell_type": "code",
   "execution_count": null,
   "metadata": {},
   "outputs": [],
   "source": [
    "lak = flopy.mf6.ModflowGwflak(gwf, pname='LAK-1', time_conversion=86400.000, \n",
    "                              mover=True, boundnames=True, \n",
    "                              nlakes=2, noutlets=1,\n",
    "                              outlets=outlet, \n",
    "                              packagedata=lakpackagedata, \n",
    "                              connectiondata=lakeconnectiondata)"
   ]
  },
  {
   "cell_type": "markdown",
   "metadata": {},
   "source": [
    "#### Create lake observations"
   ]
  },
  {
   "cell_type": "code",
   "execution_count": null,
   "metadata": {},
   "outputs": [],
   "source": [
    "lakobsname = mname + '.lak.obs'\n",
    "lak_obs = [('LAK1-S', 'STAGE', 1),\n",
    "           ('LAK2-S', 'STAGE', 2),\n",
    "           ('LAK1-Q', 'LAK', 'LAKE1'), \n",
    "           ('LAK2-Q', 'LAK', 'LAKE2')]\n",
    "lak.obs.initialize(filename=lakobsname, continuous={lakobsname+'.csv': lak_obs})"
   ]
  },
  {
   "cell_type": "markdown",
   "metadata": {},
   "source": [
    "#### Class exercise 2\n",
    "\n",
    "Empty code blocks for creating the MAW package and MAW observations\n",
    "\n",
    "-----------------\n",
    "\n",
    "Make the `packagedata`"
   ]
  },
  {
   "cell_type": "code",
   "execution_count": null,
   "metadata": {},
   "outputs": [],
   "source": []
  },
  {
   "cell_type": "code",
   "execution_count": null,
   "metadata": {},
   "outputs": [],
   "source": []
  },
  {
   "cell_type": "markdown",
   "metadata": {},
   "source": [
    "Make the `connectiondata`"
   ]
  },
  {
   "cell_type": "code",
   "execution_count": null,
   "metadata": {},
   "outputs": [],
   "source": []
  },
  {
   "cell_type": "code",
   "execution_count": null,
   "metadata": {},
   "outputs": [],
   "source": []
  },
  {
   "cell_type": "markdown",
   "metadata": {},
   "source": [
    "Make the stress period data"
   ]
  },
  {
   "cell_type": "code",
   "execution_count": null,
   "metadata": {},
   "outputs": [],
   "source": []
  },
  {
   "cell_type": "markdown",
   "metadata": {},
   "source": [
    "#### Create the MAW package\n",
    "\n",
    "Set the package name (`pname`) to `MAW-1`. Also create observations and add to the MAW package (`obs.initialize()`)"
   ]
  },
  {
   "cell_type": "code",
   "execution_count": null,
   "metadata": {},
   "outputs": [],
   "source": []
  },
  {
   "cell_type": "code",
   "execution_count": null,
   "metadata": {},
   "outputs": [],
   "source": []
  },
  {
   "cell_type": "markdown",
   "metadata": {},
   "source": [
    "### Reset idomain using CHD package locations representing the lakes"
   ]
  },
  {
   "cell_type": "code",
   "execution_count": null,
   "metadata": {},
   "outputs": [],
   "source": [
    "idomain = gwf.dis.idomain.array\n",
    "for loc in chdloc:\n",
    "    idomain[loc] = 0\n",
    "gwf.dis.idomain.set_data(idomain[0], layer=0, multiplier=[1])"
   ]
  },
  {
   "cell_type": "markdown",
   "metadata": {},
   "source": [
    "### Create the MVR package\n",
    "\n",
    "Connect SFR reach 6 to lake 1 and connect lake 1 to SFR reach 7"
   ]
  },
  {
   "cell_type": "code",
   "execution_count": null,
   "metadata": {},
   "outputs": [],
   "source": [
    "mvrperioddata = [['SFR-1', 5, 'LAK-1', 0, 'FACTOR',  1.],\n",
    "                 ['LAK-1', 0, 'SFR-1', 6, 'FACTOR',  1.]]\n",
    "maxmvr, maxpackages = 2, 2\n",
    "mvrpack = [['SFR-1'], ['LAK-1']]"
   ]
  },
  {
   "cell_type": "markdown",
   "metadata": {},
   "source": [
    "#### Class exercise 3\n",
    "\n",
    "Empty code blocks for SFR, LAK, and MAW package connections to other packages using the MVR package"
   ]
  },
  {
   "cell_type": "code",
   "execution_count": null,
   "metadata": {},
   "outputs": [],
   "source": []
  },
  {
   "cell_type": "code",
   "execution_count": null,
   "metadata": {},
   "outputs": [],
   "source": [
    "mvr = flopy.mf6.ModflowGwfmvr(gwf, maxmvr=maxmvr, maxpackages=maxpackages, \n",
    "                              packages=mvrpack, \n",
    "                              perioddata=mvrperioddata)"
   ]
  },
  {
   "cell_type": "markdown",
   "metadata": {},
   "source": [
    "### Write the MODFLOW 6 files"
   ]
  },
  {
   "cell_type": "code",
   "execution_count": null,
   "metadata": {},
   "outputs": [],
   "source": [
    "s.write_simulation()\n",
    "s.run_simulation()"
   ]
  },
  {
   "cell_type": "markdown",
   "metadata": {},
   "source": [
    "### Load sfr and lak obs"
   ]
  },
  {
   "cell_type": "code",
   "execution_count": null,
   "metadata": {},
   "outputs": [],
   "source": [
    "sfrobs = np.genfromtxt(os.path.join(model_ws, mname + '.sfr.obs.csv'), delimiter=',', names=True)\n",
    "lakobs = np.genfromtxt(os.path.join(model_ws, mname + '.lak.obs.csv'), delimiter=',', names=True)\n",
    "lakobs.dtype"
   ]
  },
  {
   "cell_type": "markdown",
   "metadata": {},
   "source": [
    "### Create mapping array for lake data"
   ]
  },
  {
   "cell_type": "code",
   "execution_count": null,
   "metadata": {},
   "outputs": [],
   "source": [
    "lakeconn = gwf.lak.connectiondata.get_data()\n",
    "lakmap = {0: [], 1: []}\n",
    "for v in lakeconn:\n",
    "    if v['claktype'].upper() == 'VERTICAL':\n",
    "        cid = v['cellid']\n",
    "        lakmap[v['lakeno']].append((0, cid[1], cid[2]))"
   ]
  },
  {
   "cell_type": "code",
   "execution_count": null,
   "metadata": {},
   "outputs": [],
   "source": [
    "\"\"\"\n",
    "add lake values to the head array\n",
    "\"\"\"\n",
    "def sub_lake(h, ls, tmap):\n",
    "    for key, value in tmap.items():\n",
    "        s = ls[key]\n",
    "        for loc in value:\n",
    "            h[loc] = s\n",
    "    return h    "
   ]
  },
  {
   "cell_type": "markdown",
   "metadata": {},
   "source": [
    "#### Retrieve the heads"
   ]
  },
  {
   "cell_type": "code",
   "execution_count": null,
   "metadata": {},
   "outputs": [],
   "source": [
    "hobj = flopy.utils.HeadFile(os.path.join(model_ws, mname + '.hds'))\n",
    "times= hobj.get_times()"
   ]
  },
  {
   "cell_type": "markdown",
   "metadata": {},
   "source": [
    "#### Plot the heads with the lake stages\n",
    "\n",
    "Plot the first and last times in the head file."
   ]
  },
  {
   "cell_type": "code",
   "execution_count": null,
   "metadata": {},
   "outputs": [],
   "source": [
    "h = hobj.get_data(totim=times[0])\n",
    "ls = [lakobs['LAK1S'][0], lakobs['LAK2S'][0]]\n",
    "h = sub_lake(h, ls, lakmap)\n",
    "pmv = flopy.plot.PlotMapView(gwf)\n",
    "pmv.plot_array(h, masked_values=[1e+30])\n",
    "c = pmv.contour_array(h, masked_values=[1e+30], colors='white', levels=np.arange(30, 50, 2))\n",
    "plt.clabel(c, fmt='%3d')\n",
    "plt.title('time = {}'.format(times[0]));"
   ]
  },
  {
   "cell_type": "code",
   "execution_count": null,
   "metadata": {},
   "outputs": [],
   "source": [
    "h = hobj.get_data(totim=times[-1])\n",
    "ls = [lakobs['LAK1S'][-1], lakobs['LAK2S'][-1]]\n",
    "h = sub_lake(h, ls, lakmap)\n",
    "pmv = flopy.plot.PlotMapView(gwf)\n",
    "pmv.plot_array(h, masked_values=[1e+30])\n",
    "c = pmv.contour_array(h, masked_values=[1e+30], colors='white', levels=np.arange(30, 50, 2))\n",
    "plt.clabel(c, fmt='%3d')\n",
    "plt.title('time = {}'.format(times[-1]));"
   ]
  },
  {
   "cell_type": "markdown",
   "metadata": {},
   "source": [
    "#### Plot the SFR stage results"
   ]
  },
  {
   "cell_type": "code",
   "execution_count": null,
   "metadata": {},
   "outputs": [],
   "source": [
    "names = [name for name in sfrobs.dtype.names[1:] if name[-1] == 'S']\n",
    "f, axes = plt.subplots(nrows=1, ncols=len(names), figsize=(len(names)*5, 5))\n",
    "axes = axes.flatten()\n",
    "for idx, name in enumerate(names):\n",
    "    axes[idx].plot(sfrobs['time'], sfrobs[name], marker='.', label=name)\n",
    "    axes[idx].legend();"
   ]
  },
  {
   "cell_type": "markdown",
   "metadata": {},
   "source": [
    "#### Plot the SFR Q results"
   ]
  },
  {
   "cell_type": "code",
   "execution_count": null,
   "metadata": {},
   "outputs": [],
   "source": [
    "names = [name for name in sfrobs.dtype.names[1:] if name[-1] == 'Q']\n",
    "f, axes = plt.subplots(nrows=1, ncols=len(names), figsize=(len(names)*5, 5))\n",
    "axes = axes.flatten()\n",
    "for idx, name in enumerate(names):\n",
    "    axes[idx].plot(sfrobs['time'], sfrobs[name], marker='.', label=name)\n",
    "    axes[idx].legend();"
   ]
  },
  {
   "cell_type": "markdown",
   "metadata": {},
   "source": [
    "#### Plot the lake results"
   ]
  },
  {
   "cell_type": "code",
   "execution_count": null,
   "metadata": {},
   "outputs": [],
   "source": [
    "names = [name for name in lakobs.dtype.names[1:] if name[-1] == 'S']\n",
    "f, axes = plt.subplots(nrows=1, ncols=len(names), figsize=(len(names)*5, 5))\n",
    "axes = axes.flatten()\n",
    "for idx, name in enumerate(names):\n",
    "    axes[idx].plot(lakobs['time'], lakobs[name], marker='.', label=name)\n",
    "    axes[idx].legend();"
   ]
  },
  {
   "cell_type": "markdown",
   "metadata": {},
   "source": [
    "#### Class exercise 2\n",
    "\n",
    "Empty code blocks to load and plot the multi-aquifer head results"
   ]
  },
  {
   "cell_type": "code",
   "execution_count": null,
   "metadata": {},
   "outputs": [],
   "source": []
  },
  {
   "cell_type": "code",
   "execution_count": null,
   "metadata": {},
   "outputs": [],
   "source": []
  },
  {
   "cell_type": "markdown",
   "metadata": {},
   "source": [
    "## Class exercises\n",
    "\n",
    "---------------------"
   ]
  },
  {
   "cell_type": "markdown",
   "metadata": {},
   "source": [
    "### Exercise 1: Modify the SFR model to use the time series file\n",
    "\n",
    "Uncomment the code block above to enable use of the time varying inflow rate."
   ]
  },
  {
   "cell_type": "markdown",
   "metadata": {},
   "source": [
    "### Exercise 2: Add a multi-aquifer well to the model\n",
    "\n",
    "\n",
    "##### packagedata\n",
    "There are two multi-aquifer wells to the model. Both wells have a radius of 0.5 m and each well will have 4 aquifer connections.\n",
    "\n",
    "##### connection data\n",
    "The wells are in layers 4 to 8 in cells (row, column):\n",
    "\n",
    "    (16, 20) \n",
    "    (24, 4)\n",
    "\n",
    "The top and bottom of each screen in each connected layer can be set to 100. and -100, respectively.\n",
    "\n",
    "##### stress_period_data\n",
    "The wells start pumping in stress period 2 with a pumping rate -100,000 for each well. \n",
    "\n",
    "##### Add observations\n",
    "Add a `head` observation in each multi-aquifer well.\n",
    "\n",
    "##### Plot multi-aquifer well observations\n",
    "Use SFR stage plots as an example to plot MAW head observations."
   ]
  },
  {
   "cell_type": "markdown",
   "metadata": {},
   "source": [
    "### Exercise 3: Move the water extracted from MAW to SFR using the mover\n",
    "\n",
    "\n",
    "Move water from multi-aquifer well 1 to lake 1."
   ]
  }
 ],
 "metadata": {
  "kernelspec": {
   "display_name": "Python 3",
   "language": "python",
   "name": "python3"
  },
  "language_info": {
   "codemirror_mode": {
    "name": "ipython",
    "version": 3
   },
   "file_extension": ".py",
   "mimetype": "text/x-python",
   "name": "python",
   "nbconvert_exporter": "python",
   "pygments_lexer": "ipython3",
   "version": "3.7.3"
  }
 },
 "nbformat": 4,
 "nbformat_minor": 2
}
