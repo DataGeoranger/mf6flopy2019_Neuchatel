{
 "cells": [
  {
   "cell_type": "code",
   "execution_count": 1,
   "metadata": {},
   "outputs": [
    {
     "name": "stdout",
     "output_type": "stream",
     "text": [
      "flopy is installed in /Users/mnfienen/Documents/GIT/flopy/flopy\n"
     ]
    }
   ],
   "source": [
    "import os\n",
    "import numpy as np\n",
    "import matplotlib.pyplot as plt\n",
    "import flopy\n",
    "import geopandas as gpd\n",
    "import shapely"
   ]
  },
  {
   "cell_type": "markdown",
   "metadata": {},
   "source": [
    "### Loading and modifying a MODFLOW 6 model\n",
    "\n",
    "A existing MODFLOW 6 model will be loaded and modified to include a river discretized using a shapefile..\n",
    "\n",
    "The model we are using is the model developed by Freyberg () The model domain is into 1 layer, 40 rows, and 20 columns. \n",
    "\n",
    "Before loading the simulation object you should define the simulation workspace (`sim_ws`) where the model files are, the simulation name (`name`), and the name and path of the model executable (`exe_name`).  The `sim_ws` should be set to `'data/ex01b'`, `name` should be set to `ex01b`\n",
    "\n",
    "## N.B. --> `exe_name` should be set to wherever you have located `mf6`."
   ]
  },
  {
   "cell_type": "code",
   "execution_count": 2,
   "metadata": {},
   "outputs": [],
   "source": [
    "ws = 'work/ex03'\n",
    "name = 'ex03'\n",
    "exe_name = os.path.abspath('../../working/bin/mf6')"
   ]
  },
  {
   "cell_type": "markdown",
   "metadata": {},
   "source": [
    "Load a simulation object using `flopy.mf6.MFSimulation().load()`."
   ]
  },
  {
   "cell_type": "code",
   "execution_count": 3,
   "metadata": {},
   "outputs": [
    {
     "name": "stdout",
     "output_type": "stream",
     "text": [
      "loading simulation...\n",
      "  loading simulation name file...\n",
      "  loading tdis package...\n",
      "  loading model gwf6...\n",
      "    loading package dis...\n",
      "    loading package ic...\n",
      "WARNING: Block \"options\" is not a valid block name for file type ic.\n",
      "    loading package npf...\n",
      "    loading package oc...\n",
      "    loading package wel...\n",
      "    loading package riv...\n",
      "    loading package rch...\n",
      "    loading package chd...\n",
      "  loading ims package freyberg6...\n"
     ]
    }
   ],
   "source": [
    "sim = flopy.mf6.MFSimulation().load(sim_name=name, exe_name=exe_name,\n",
    "                                    sim_ws='data/freyberg_mf6/')"
   ]
  },
  {
   "cell_type": "markdown",
   "metadata": {},
   "source": [
    "Change the workspace"
   ]
  },
  {
   "cell_type": "code",
   "execution_count": 4,
   "metadata": {},
   "outputs": [],
   "source": [
    "sim.set_sim_path(ws)"
   ]
  },
  {
   "cell_type": "markdown",
   "metadata": {},
   "source": [
    "Retrieve the gwf model object using `sim.get_model()`. First use `sim.model_names` to get the name of the groundwater model."
   ]
  },
  {
   "cell_type": "code",
   "execution_count": 5,
   "metadata": {},
   "outputs": [
    {
     "data": {
      "text/plain": [
       "odict_keys(['freyberg6'])"
      ]
     },
     "execution_count": 5,
     "metadata": {},
     "output_type": "execute_result"
    }
   ],
   "source": [
    "sim.model_names"
   ]
  },
  {
   "cell_type": "code",
   "execution_count": 6,
   "metadata": {},
   "outputs": [],
   "source": [
    "gwf = sim.get_model('freyberg6')"
   ]
  },
  {
   "cell_type": "markdown",
   "metadata": {},
   "source": [
    "#### Create the river package\n",
    "\n",
    "Load the river shapefile using geopandas. "
   ]
  },
  {
   "cell_type": "code",
   "execution_count": 7,
   "metadata": {},
   "outputs": [],
   "source": [
    "spth = 'data/freyberg/GIS/Flowline_river.shp'\n",
    "rshp = gpd.read_file(spth)"
   ]
  },
  {
   "cell_type": "markdown",
   "metadata": {},
   "source": [
    "Plot the shapefile on the model grid."
   ]
  },
  {
   "cell_type": "code",
   "execution_count": 8,
   "metadata": {},
   "outputs": [
    {
     "data": {
      "text/plain": [
       "<matplotlib.collections.LineCollection at 0x126d8ed50>"
      ]
     },
     "execution_count": 8,
     "metadata": {},
     "output_type": "execute_result"
    },
    {
     "data": {
      "image/png": "[encoded data removed]",
      "text/plain": [
       "<Figure size 432x288 with 1 Axes>"
      ]
     },
     "metadata": {
      "needs_background": "light"
     },
     "output_type": "display_data"
    }
   ],
   "source": [
    "ax = rshp.plot()\n",
    "gwf.modelgrid.plot(ax=ax)"
   ]
  },
  {
   "cell_type": "markdown",
   "metadata": {},
   "source": [
    "Determine what is in the geometry"
   ]
  },
  {
   "cell_type": "code",
   "execution_count": 9,
   "metadata": {},
   "outputs": [
    {
     "data": {
      "text/plain": [
       "0    LINESTRING (3346.498 10010.586, 3363.599 9754....\n",
       "Name: geometry, dtype: geometry"
      ]
     },
     "execution_count": 9,
     "metadata": {},
     "output_type": "execute_result"
    }
   ],
   "source": [
    "rshp.geometry"
   ]
  },
  {
   "cell_type": "markdown",
   "metadata": {},
   "source": [
    "Create a intersection object from the modelgrid"
   ]
  },
  {
   "cell_type": "code",
   "execution_count": 10,
   "metadata": {},
   "outputs": [],
   "source": [
    "ixobj = flopy.utils.gridintersect.GridIntersect(gwf.modelgrid, method='structured')"
   ]
  },
  {
   "cell_type": "markdown",
   "metadata": {},
   "source": [
    "Intersect the geometry object and the river shapefile goemetry"
   ]
  },
  {
   "cell_type": "code",
   "execution_count": 11,
   "metadata": {},
   "outputs": [],
   "source": [
    "rint = ixobj.intersect_linestring(rshp.geometry[0])"
   ]
  },
  {
   "cell_type": "markdown",
   "metadata": {},
   "source": [
    "Plot the intersected river and the model grid"
   ]
  },
  {
   "cell_type": "code",
   "execution_count": 12,
   "metadata": {},
   "outputs": [
    {
     "data": {
      "text/plain": [
       "<matplotlib.collections.LineCollection at 0x127806910>"
      ]
     },
     "execution_count": 12,
     "metadata": {},
     "output_type": "execute_result"
    },
    {
     "data": {
      "image/png": "[encoded data removed]",
      "text/plain": [
       "<Figure size 432x288 with 1 Axes>"
      ]
     },
     "metadata": {
      "needs_background": "light"
     },
     "output_type": "display_data"
    }
   ],
   "source": [
    "ax = ixobj.plot_linestring(rint)\n",
    "gwf.modelgrid.plot(ax=ax)"
   ]
  },
  {
   "cell_type": "markdown",
   "metadata": {},
   "source": [
    "What is in the intersected river object? It is a recarray so lets output the dtype.names."
   ]
  },
  {
   "cell_type": "code",
   "execution_count": 13,
   "metadata": {},
   "outputs": [
    {
     "data": {
      "text/plain": [
       "('cellids', 'vertices', 'lengths', 'ixshapes')"
      ]
     },
     "execution_count": 13,
     "metadata": {},
     "output_type": "execute_result"
    }
   ],
   "source": [
    "rint.dtype.names"
   ]
  },
  {
   "cell_type": "markdown",
   "metadata": {},
   "source": [
    "The zero-based row and column locations are in the `'cellids'` column. "
   ]
  },
  {
   "cell_type": "code",
   "execution_count": 14,
   "metadata": {},
   "outputs": [
    {
     "data": {
      "text/plain": [
       "array([(0, 13), (1, 13), (2, 13), (2, 14), (3, 14), (4, 14), (5, 14),\n",
       "       (5, 13), (6, 13), (6, 12), (7, 12), (8, 12), (8, 13), (9, 13),\n",
       "       (9, 14), (10, 14), (11, 14), (11, 15), (12, 15), (13, 15),\n",
       "       (13, 16), (14, 15), (14, 16), (15, 15), (16, 15), (17, 15),\n",
       "       (17, 14), (17, 13), (17, 12), (18, 12), (19, 12), (20, 12),\n",
       "       (21, 12), (21, 13), (22, 13), (22, 14), (23, 14), (24, 14),\n",
       "       (24, 15), (25, 15), (25, 16), (26, 16), (27, 16), (28, 16),\n",
       "       (28, 15), (28, 14), (29, 14), (29, 13), (29, 12), (30, 12),\n",
       "       (31, 12), (32, 12), (32, 13), (33, 13), (34, 13), (35, 13),\n",
       "       (36, 13), (36, 12), (37, 12), (38, 12), (39, 12)], dtype=object)"
      ]
     },
     "execution_count": 14,
     "metadata": {},
     "output_type": "execute_result"
    }
   ],
   "source": [
    "rint['cellids']"
   ]
  },
  {
   "cell_type": "markdown",
   "metadata": {},
   "source": [
    "The lengths of each river component are in the `'lengths'` column. Set a `rlen` variable to `rint['lengths']`."
   ]
  },
  {
   "cell_type": "code",
   "execution_count": 15,
   "metadata": {},
   "outputs": [
    {
     "data": {
      "text/plain": [
       "array([250.71835918, 260.58889922, 116.40303199, 191.92306733,\n",
       "       258.06622205, 256.92339594, 199.44412135, 194.41142808,\n",
       "       119.82389196, 177.04412864, 252.39824312, 252.68238853,\n",
       "        26.04670151, 278.74627965, 122.65759838, 279.9979019 ,\n",
       "       256.34963068,   3.44678172, 310.60844164, 106.24076249,\n",
       "       187.05877656, 240.99077815, 135.02503893, 281.20477884,\n",
       "       265.97033132, 127.10529604, 250.3837113 , 280.31530203,\n",
       "       156.2831783 , 282.2717055 , 255.19712296, 290.24399569,\n",
       "        96.2627672 , 222.92345277, 269.83231615,   9.51011227,\n",
       "       277.80012767, 282.37514077,  27.45720497, 288.56417636,\n",
       "        86.99414373, 250.56126814, 256.13945734,  95.1125441 ,\n",
       "       292.1361721 ,  83.49689616, 184.35873236, 270.45071336,\n",
       "       128.13631163, 267.78199342, 278.33994138,  88.81729799,\n",
       "       182.90081567, 253.6237694 , 251.53847606, 271.36253678,\n",
       "         3.53037069, 257.97097199, 250.38178407, 253.65510135,\n",
       "       270.70447278])"
      ]
     },
     "execution_count": 15,
     "metadata": {},
     "output_type": "execute_result"
    }
   ],
   "source": [
    "rlen = rint['lengths'].copy()\n",
    "rlen"
   ]
  },
  {
   "cell_type": "markdown",
   "metadata": {},
   "source": [
    "The river is located in layer 1 and the zero-based row, column locations in `rint['cellids']`. The river stage stage and bottom are at 20.1 and 20.0 in row 1, respectively. The river stage stage and bottom are at 11.25 and 10.25 in row 40, respectively. The river conductance is 0.5e-1.\n",
    "\n",
    "We are going to linearly interpolate the river stage and bottom from the values in row 1 and row 40. For that we will need the total length of the river."
   ]
  },
  {
   "cell_type": "code",
   "execution_count": 16,
   "metadata": {},
   "outputs": [
    {
     "data": {
      "text/plain": [
       "12419.290359618693"
      ]
     },
     "execution_count": 16,
     "metadata": {},
     "output_type": "execute_result"
    }
   ],
   "source": [
    "rlentot = rint['lengths'].sum()\n",
    "rlentot"
   ]
  },
  {
   "cell_type": "markdown",
   "metadata": {},
   "source": [
    "The slope of the river stage and river bottom are $\\frac{11.25 - 20.1}{rlentot}$ and $\\frac{10.25 - 20.0}{rlentot}$, respectively. "
   ]
  },
  {
   "cell_type": "code",
   "execution_count": 17,
   "metadata": {},
   "outputs": [],
   "source": [
    "rstage_us, rbot_us = 20.1, 20.0\n",
    "rstage_ds, rbot_ds = 11.25, 10.25"
   ]
  },
  {
   "cell_type": "code",
   "execution_count": 18,
   "metadata": {},
   "outputs": [
    {
     "data": {
      "text/plain": [
       "(-0.0007126011022961316, -0.0007850690110042126)"
      ]
     },
     "execution_count": 18,
     "metadata": {},
     "output_type": "execute_result"
    }
   ],
   "source": [
    "dstage, drbot = (rstage_ds - rstage_us) / rlentot, (rbot_ds - rbot_us) / rlentot\n",
    "dstage, drbot"
   ]
  },
  {
   "cell_type": "markdown",
   "metadata": {},
   "source": [
    "Create numpy arrays for the interpolated river stage and river bottom that will be used to create the river package."
   ]
  },
  {
   "cell_type": "code",
   "execution_count": 19,
   "metadata": {},
   "outputs": [],
   "source": [
    "rstage = np.zeros(rint.shape[0], dtype=np.float)\n",
    "rbot = np.zeros(rint.shape[0], dtype=np.float)"
   ]
  },
  {
   "cell_type": "markdown",
   "metadata": {},
   "source": [
    "Calculate interpolated river stage and river bottom."
   ]
  },
  {
   "cell_type": "code",
   "execution_count": 20,
   "metadata": {},
   "outputs": [],
   "source": [
    "rlencum = 0.\n",
    "for idx in range(rstage.shape[0]):\n",
    "    if idx == 0:\n",
    "        rlencum = 0.5 * rlen[idx]\n",
    "    else:\n",
    "        rlencum += 0.5 * (rlen[idx-1] + rlen[idx])\n",
    "    rstage[idx] = rstage_us + rlencum * dstage\n",
    "    rbot[idx] = rbot_us + rlencum * drbot"
   ]
  },
  {
   "cell_type": "code",
   "execution_count": 21,
   "metadata": {},
   "outputs": [
    {
     "data": {
      "text/plain": [
       "array([20.01066891, 19.82848985, 19.69416742, 19.58431066, 19.42397923,\n",
       "       19.24048814, 19.07788415, 18.9375532 , 18.82559098, 18.71981674,\n",
       "       18.56680619, 18.38684568, 18.28753435, 18.17893644, 18.03591602,\n",
       "       17.89244964, 17.70134872, 17.60878312, 17.49688507, 17.34836147,\n",
       "       17.24385868, 17.09134439, 16.95736974, 16.80906683, 16.61410804,\n",
       "       16.47405497, 16.33955543, 16.15046708, 15.9949068 , 15.83864946,\n",
       "       15.64714902, 15.45280805, 15.31509547, 15.20136925, 15.02580009,\n",
       "       14.92627023, 14.82390144, 14.62431068, 14.51391724, 14.40131865,\n",
       "       14.26750702, 14.14723584, 13.96669809, 13.84154681, 13.70356988,\n",
       "       13.56973161, 13.4742945 , 13.31224564, 13.17022887, 13.02916295,\n",
       "       12.83457941, 12.70376108, 12.60694777, 12.45141382, 12.27142423,\n",
       "       12.08511431, 11.98716982, 11.89399675, 11.71287038, 11.53328176,\n",
       "       11.34645215])"
      ]
     },
     "execution_count": 21,
     "metadata": {},
     "output_type": "execute_result"
    }
   ],
   "source": [
    "rstage"
   ]
  },
  {
   "cell_type": "code",
   "execution_count": 22,
   "metadata": {},
   "outputs": [
    {
     "data": {
      "text/plain": [
       "array([19.90158439, 19.70087865, 19.55289631, 19.43186768, 19.25523135,\n",
       "       19.05308016, 18.87394016, 18.71933827, 18.59599006, 18.47945912,\n",
       "       18.31088817, 18.11262659, 18.00321581, 17.88357405, 17.72600917,\n",
       "       17.567953  , 17.35741808, 17.25543903, 17.13216152, 16.96853382,\n",
       "       16.85340363, 16.68537941, 16.53778023, 16.37439566, 16.15961055,\n",
       "       16.0053148 , 15.85713734, 15.64881967, 15.4774397 , 15.30529177,\n",
       "       15.09431671, 14.88021225, 14.72849501, 14.60320341, 14.40977976,\n",
       "       14.30012822, 14.18734904, 13.96746092, 13.84584103, 13.72179173,\n",
       "       13.57437214, 13.44186999, 13.24297247, 13.10509394, 12.95308546,\n",
       "       12.80563652, 12.70049394, 12.52196554, 12.36550638, 12.21009478,\n",
       "       11.99572308, 11.85160119, 11.74494246, 11.57359149, 11.37529788,\n",
       "       11.17004119, 11.06213624, 10.95948794, 10.75994194, 10.56209007,\n",
       "       10.35626085])"
      ]
     },
     "execution_count": 22,
     "metadata": {},
     "output_type": "execute_result"
    }
   ],
   "source": [
    "rbot"
   ]
  },
  {
   "cell_type": "markdown",
   "metadata": {},
   "source": [
    "Remove the existing river package. Use `gwf.package_names` to determine the name of the river package."
   ]
  },
  {
   "cell_type": "code",
   "execution_count": 23,
   "metadata": {},
   "outputs": [
    {
     "data": {
      "text/plain": [
       "['dis', 'ic', 'npf', 'oc', 'basewell', 'riv_0', 'rch_0', 'chd_0']"
      ]
     },
     "execution_count": 23,
     "metadata": {},
     "output_type": "execute_result"
    }
   ],
   "source": [
    "gwf.package_names"
   ]
  },
  {
   "cell_type": "markdown",
   "metadata": {},
   "source": [
    "Remove the existing river package using `gwf.remove_package()`."
   ]
  },
  {
   "cell_type": "code",
   "execution_count": 24,
   "metadata": {},
   "outputs": [],
   "source": [
    "gwf.remove_package('riv_0')"
   ]
  },
  {
   "cell_type": "markdown",
   "metadata": {},
   "source": [
    "Create a list of lists with the river package data. The river package data has the form:\n",
    "\n",
    "    [[(k, i, j), rstage, conductance, rbot, iface],\n",
    "                       .\n",
    "                       .\n",
    "                       .\n",
    "     [(k, i, j), rstage, conductance, rbot, iface]]\n",
    "\n",
    "`iface` is an auxillary variable that is used by MODPATH. We will assume that the river is on the top of the model cell (`IFACE` = 6)."
   ]
  },
  {
   "cell_type": "code",
   "execution_count": 25,
   "metadata": {},
   "outputs": [],
   "source": [
    "riv_spd = []\n",
    "for idx in range(rint.shape[0]):\n",
    "    i, j = rint['cellids'][idx]\n",
    "    riv_spd.append([(0, i, j), rstage[idx], 0.5e-1, rbot[idx], 6.])"
   ]
  },
  {
   "cell_type": "code",
   "execution_count": 26,
   "metadata": {},
   "outputs": [
    {
     "data": {
      "text/plain": [
       "[[(0, 0, 13), 20.010668910442433, 0.05, 19.901584392860308, 6.0],\n",
       " [(0, 1, 13), 19.828489852471233, 0.05, 19.70087865102763, 6.0],\n",
       " [(0, 2, 13), 19.69416741960274, 0.05, 19.55289630973183, 6.0]]"
      ]
     },
     "execution_count": 26,
     "metadata": {},
     "output_type": "execute_result"
    }
   ],
   "source": [
    "riv_spd[:3]"
   ]
  },
  {
   "cell_type": "markdown",
   "metadata": {},
   "source": [
    "Create the new river package"
   ]
  },
  {
   "cell_type": "code",
   "execution_count": 27,
   "metadata": {},
   "outputs": [],
   "source": [
    "riv = flopy.mf6.ModflowGwfriv(gwf, stress_period_data=riv_spd, auxiliary=['iface'])"
   ]
  },
  {
   "cell_type": "markdown",
   "metadata": {},
   "source": [
    "#### Write the model files and run the model"
   ]
  },
  {
   "cell_type": "code",
   "execution_count": 28,
   "metadata": {},
   "outputs": [
    {
     "name": "stdout",
     "output_type": "stream",
     "text": [
      "writing simulation...\n",
      "  writing simulation name file...\n",
      "  writing simulation tdis package...\n",
      "  writing ims package freyberg6...\n",
      "  writing model freyberg6...\n",
      "    writing model name file...\n",
      "    writing package dis...\n",
      "    writing package ic...\n",
      "    writing package npf...\n",
      "    writing package oc...\n",
      "    writing package basewell...\n",
      "    writing package rch_0...\n",
      "    writing package chd_0...\n",
      "    writing package riv_0...\n",
      "INFORMATION: maxbound in ('gwf6', 'riv', 'dimensions') changed to 61 based on size of stress_period_data\n",
      "FloPy is using the following  executable to run the model: /Users/mnfienen/Documents/GIT/mf6flopy2019_Neuchatel/working/bin/mf6\n",
      "                                   MODFLOW 6\n",
      "                U.S. GEOLOGICAL SURVEY MODULAR HYDROLOGIC MODEL\n",
      "                            VERSION 6.0.4 03/13/2019\n",
      "\n",
      "   MODFLOW 6 compiled Mar 21 2019 13:54:16 with IFORT compiler (ver. 19.0.0)\n",
      "\n",
      "This software has been approved for release by the U.S. Geological \n",
      "Survey (USGS). Although the software has been subjected to rigorous \n",
      "review, the USGS reserves the right to update the software as needed \n",
      "pursuant to further analysis and review. No warranty, expressed or \n",
      "implied, is made by the USGS or the U.S. Government as to the \n",
      "functionality of the software and related material nor shall the \n",
      "fact of release constitute any such warranty. Furthermore, the \n",
      "software is released on condition that neither the USGS nor the U.S. \n",
      "Government shall be held liable for any damages resulting from its \n",
      "authorized or unauthorized use. Also refer to the USGS Water \n",
      "Resources Software User Rights Notice for complete use, copyright, \n",
      "and distribution information.\n",
      "\n",
      " Run start date and time (yyyy/mm/dd hh:mm:ss): 2019/12/19  8:53:28\n",
      "\n",
      " Writing simulation list file: mfsim.lst\n",
      " Using Simulation name file: mfsim.nam\n",
      " Solving:  Stress period:     1    Time step:     1\n",
      " Run end date and time (yyyy/mm/dd hh:mm:ss): 2019/12/19  8:53:28\n",
      " Elapsed run time:  0.106 Seconds\n",
      "\n",
      " Normal termination of simulation.\n"
     ]
    },
    {
     "data": {
      "text/plain": [
       "(True, [])"
      ]
     },
     "execution_count": 28,
     "metadata": {},
     "output_type": "execute_result"
    }
   ],
   "source": [
    "sim.write_simulation()\n",
    "sim.run_simulation()"
   ]
  },
  {
   "cell_type": "markdown",
   "metadata": {},
   "source": [
    "#### Post-process the results\n",
    "\n",
    "Load the heads and face flows from the hds and cbc files. The head file can be loaded with the `flopy.utils.HeadFile()` method. The cell-by-cell file can be loaded with the `flopy.utils.CellBudgetFile()` method. MODFLOW 6 creates double precision binary files so `precision='double'` needs to be passed to the `flopy.utils.CellBudgetFile()` method. The `flopy.utils.HeadFile()` method autodetects the precision of the head file. The precision of the head file is a attribute on the head file object (`hobs.precision`) and could be passed as the `precision` parameter."
   ]
  },
  {
   "cell_type": "code",
   "execution_count": 29,
   "metadata": {},
   "outputs": [
    {
     "data": {
      "text/plain": [
       "('freyberg6.hds', 'freyberg6.cbb')"
      ]
     },
     "execution_count": 29,
     "metadata": {},
     "output_type": "execute_result"
    }
   ],
   "source": [
    "hname = gwf.oc.head_filerecord.array[0][0]\n",
    "cname = gwf.oc.budget_filerecord.array[0][0]\n",
    "hname, cname"
   ]
  },
  {
   "cell_type": "code",
   "execution_count": 30,
   "metadata": {},
   "outputs": [],
   "source": [
    "fpth = os.path.join(ws, hname)\n",
    "hobj = flopy.utils.HeadFile(fpth)"
   ]
  },
  {
   "cell_type": "code",
   "execution_count": 31,
   "metadata": {},
   "outputs": [],
   "source": [
    "hds = hobj.get_data()"
   ]
  },
  {
   "cell_type": "code",
   "execution_count": 32,
   "metadata": {},
   "outputs": [],
   "source": [
    "fpth = os.path.join(ws, cname)\n",
    "cobj = flopy.utils.CellBudgetFile(fpth, precision=hobj.precision)"
   ]
  },
  {
   "cell_type": "markdown",
   "metadata": {},
   "source": [
    "The entries in the cell-by-cell file can be determined with the `.list_unique_records()` method on the cell budget file object."
   ]
  },
  {
   "cell_type": "code",
   "execution_count": 33,
   "metadata": {},
   "outputs": [
    {
     "name": "stdout",
     "output_type": "stream",
     "text": [
      "RECORD           IMETH\n",
      "----------------------\n",
      "FLOW-JA-FACE         1\n",
      "DATA-SPDIS           6\n",
      "WEL                  6\n",
      "RIV                  6\n",
      "RCH                  6\n",
      "CHD                  6\n"
     ]
    }
   ],
   "source": [
    "cobj.list_unique_records()"
   ]
  },
  {
   "cell_type": "markdown",
   "metadata": {},
   "source": [
    "Retrieve the `'DATA-SPDIS'` data type from the cell-by-cell file."
   ]
  },
  {
   "cell_type": "code",
   "execution_count": 34,
   "metadata": {},
   "outputs": [],
   "source": [
    "spd = cobj.get_data(text='DATA-SPDIS')[0]"
   ]
  },
  {
   "cell_type": "markdown",
   "metadata": {},
   "source": [
    "#### Plot the results\n",
    "\n",
    "Plot the results using `flopy.plot.PlotMapView()`. The head results can be plotted using the `.plot_array()` method. The discharge results can be plotted using the `plot_specific_discharge()` method. Boundary conditions can be plotted using the `.plot_bc()` method."
   ]
  },
  {
   "cell_type": "code",
   "execution_count": 35,
   "metadata": {},
   "outputs": [
    {
     "data": {
      "text/plain": [
       "<matplotlib.quiver.Quiver at 0x127875550>"
      ]
     },
     "execution_count": 35,
     "metadata": {},
     "output_type": "execute_result"
    },
    {
     "data": {
      "image/png": "[encoded data removed]",
      "text/plain": [
       "<Figure size 216x432 with 1 Axes>"
      ]
     },
     "metadata": {
      "needs_background": "light"
     },
     "output_type": "display_data"
    }
   ],
   "source": [
    "mm = flopy.plot.PlotMapView(model=gwf, layer=0)\n",
    "mm.plot_array(hds, masked_values=[1e30])\n",
    "\n",
    "fig = plt.gcf()\n",
    "fig.set_size_inches(3, 6)\n",
    "\n",
    "mm.plot_bc('RIV')\n",
    "mm.plot_bc('WEL')\n",
    "mm.plot_specific_discharge(spd)\n"
   ]
  },
  {
   "cell_type": "code",
   "execution_count": null,
   "metadata": {},
   "outputs": [],
   "source": []
  }
 ],
 "metadata": {
  "kernelspec": {
   "display_name": "Python 3",
   "language": "python",
   "name": "python3"
  },
  "language_info": {
   "codemirror_mode": {
    "name": "ipython",
    "version": 3
   },
   "file_extension": ".py",
   "mimetype": "text/x-python",
   "name": "python",
   "nbconvert_exporter": "python",
   "pygments_lexer": "ipython3",
   "version": "3.7.4"
  }
 },
 "nbformat": 4,
 "nbformat_minor": 2
}
